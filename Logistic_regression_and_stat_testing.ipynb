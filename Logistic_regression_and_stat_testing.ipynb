{
  "nbformat": 4,
  "nbformat_minor": 0,
  "metadata": {
    "colab": {
      "provenance": [],
      "collapsed_sections": [],
      "authorship_tag": "ABX9TyP5jp5UiiaoLVKOmPVxD749"
    },
    "kernelspec": {
      "name": "python3",
      "display_name": "Python 3"
    },
    "language_info": {
      "name": "python"
    }
  },
  "cells": [
    {
      "cell_type": "markdown",
      "source": [
        "Задание 1\n",
        "\n",
        "Вернемся к набору данных о видеоиграх.\n",
        "\n",
        "Ответьте на следующие вопросы:\n",
        "\n",
        "1) Как критики относятся к спортивным играм?\n",
        "\n",
        "2) Критикам нравятся больше игры на PC или на PS4?\n",
        "\n",
        "3) Критикам больше нравятся стрелялки или стратегии?\n",
        "\n",
        "Для каждого вопроса:\n",
        "\n",
        "сформулируйте нулевую и альтернативную гипотезы;\n",
        "выберите пороговый уровень статистической значимости;\n",
        "опишите полученные результаты статистического теста."
      ],
      "metadata": {
        "id": "7A1uytplzXyj"
      }
    },
    {
      "cell_type": "code",
      "source": [
        "import pandas as pd\n",
        "import numpy as np\n",
        "from scipy import stats as st\n",
        "import seaborn as sns\n",
        "import matplotlib.pyplot as plt\n",
        "import nltk\n",
        "from nltk.corpus import stopwords\n",
        "from nltk.stem import WordNetLemmatizer\n",
        "from sklearn.model_selection import train_test_split\n",
        "from sklearn.discriminant_analysis import LinearDiscriminantAnalysis\n",
        "import copy\n",
        "from sklearn.metrics import confusion_matrix"
      ],
      "metadata": {
        "id": "JkM7gBHrXTG-"
      },
      "execution_count": null,
      "outputs": []
    },
    {
      "cell_type": "code",
      "source": [
        "df = pd.read_csv('https://raw.githubusercontent.com/IlyaShirmanov/Portfolio_Data_Science_Files/main/vgsales.csv')\n",
        "df"
      ],
      "metadata": {
        "colab": {
          "base_uri": "https://localhost:8080/",
          "height": 424
        },
        "id": "mDW0tcv2Xdqq",
        "outputId": "1e558f8a-00ba-40c4-f546-79f50d104b20"
      },
      "execution_count": null,
      "outputs": [
        {
          "output_type": "execute_result",
          "data": {
            "text/plain": [
              "                                Name Platform  Year_of_Release         Genre  \\\n",
              "0                         Wii Sports      Wii           2006.0        Sports   \n",
              "1                  Super Mario Bros.      NES           1985.0      Platform   \n",
              "2                     Mario Kart Wii      Wii           2008.0        Racing   \n",
              "3                  Wii Sports Resort      Wii           2009.0        Sports   \n",
              "4           Pokemon Red/Pokemon Blue       GB           1996.0  Role-Playing   \n",
              "...                              ...      ...              ...           ...   \n",
              "16714  Samurai Warriors: Sanada Maru      PS3           2016.0        Action   \n",
              "16715               LMA Manager 2007     X360           2006.0        Sports   \n",
              "16716        Haitaka no Psychedelica      PSV           2016.0     Adventure   \n",
              "16717               Spirits & Spells      GBA           2003.0      Platform   \n",
              "16718            Winning Post 8 2016      PSV           2016.0    Simulation   \n",
              "\n",
              "          Publisher  NA_Sales  EU_Sales  JP_Sales  Other_Sales  Global_Sales  \\\n",
              "0          Nintendo     41.36     28.96      3.77         8.45         82.53   \n",
              "1          Nintendo     29.08      3.58      6.81         0.77         40.24   \n",
              "2          Nintendo     15.68     12.76      3.79         3.29         35.52   \n",
              "3          Nintendo     15.61     10.93      3.28         2.95         32.77   \n",
              "4          Nintendo     11.27      8.89     10.22         1.00         31.37   \n",
              "...             ...       ...       ...       ...          ...           ...   \n",
              "16714    Tecmo Koei      0.00      0.00      0.01         0.00          0.01   \n",
              "16715   Codemasters      0.00      0.01      0.00         0.00          0.01   \n",
              "16716  Idea Factory      0.00      0.00      0.01         0.00          0.01   \n",
              "16717       Wanadoo      0.01      0.00      0.00         0.00          0.01   \n",
              "16718    Tecmo Koei      0.00      0.00      0.01         0.00          0.01   \n",
              "\n",
              "       Critic_Score  Critic_Count User_Score  User_Count Developer Rating  \n",
              "0              76.0          51.0          8       322.0  Nintendo      E  \n",
              "1               NaN           NaN        NaN         NaN       NaN    NaN  \n",
              "2              82.0          73.0        8.3       709.0  Nintendo      E  \n",
              "3              80.0          73.0          8       192.0  Nintendo      E  \n",
              "4               NaN           NaN        NaN         NaN       NaN    NaN  \n",
              "...             ...           ...        ...         ...       ...    ...  \n",
              "16714           NaN           NaN        NaN         NaN       NaN    NaN  \n",
              "16715           NaN           NaN        NaN         NaN       NaN    NaN  \n",
              "16716           NaN           NaN        NaN         NaN       NaN    NaN  \n",
              "16717           NaN           NaN        NaN         NaN       NaN    NaN  \n",
              "16718           NaN           NaN        NaN         NaN       NaN    NaN  \n",
              "\n",
              "[16719 rows x 16 columns]"
            ],
            "text/html": [
              "\n",
              "  <div id=\"df-7c3582c5-a366-4625-8e3f-efa3a3e8132f\">\n",
              "    <div class=\"colab-df-container\">\n",
              "      <div>\n",
              "<style scoped>\n",
              "    .dataframe tbody tr th:only-of-type {\n",
              "        vertical-align: middle;\n",
              "    }\n",
              "\n",
              "    .dataframe tbody tr th {\n",
              "        vertical-align: top;\n",
              "    }\n",
              "\n",
              "    .dataframe thead th {\n",
              "        text-align: right;\n",
              "    }\n",
              "</style>\n",
              "<table border=\"1\" class=\"dataframe\">\n",
              "  <thead>\n",
              "    <tr style=\"text-align: right;\">\n",
              "      <th></th>\n",
              "      <th>Name</th>\n",
              "      <th>Platform</th>\n",
              "      <th>Year_of_Release</th>\n",
              "      <th>Genre</th>\n",
              "      <th>Publisher</th>\n",
              "      <th>NA_Sales</th>\n",
              "      <th>EU_Sales</th>\n",
              "      <th>JP_Sales</th>\n",
              "      <th>Other_Sales</th>\n",
              "      <th>Global_Sales</th>\n",
              "      <th>Critic_Score</th>\n",
              "      <th>Critic_Count</th>\n",
              "      <th>User_Score</th>\n",
              "      <th>User_Count</th>\n",
              "      <th>Developer</th>\n",
              "      <th>Rating</th>\n",
              "    </tr>\n",
              "  </thead>\n",
              "  <tbody>\n",
              "    <tr>\n",
              "      <th>0</th>\n",
              "      <td>Wii Sports</td>\n",
              "      <td>Wii</td>\n",
              "      <td>2006.0</td>\n",
              "      <td>Sports</td>\n",
              "      <td>Nintendo</td>\n",
              "      <td>41.36</td>\n",
              "      <td>28.96</td>\n",
              "      <td>3.77</td>\n",
              "      <td>8.45</td>\n",
              "      <td>82.53</td>\n",
              "      <td>76.0</td>\n",
              "      <td>51.0</td>\n",
              "      <td>8</td>\n",
              "      <td>322.0</td>\n",
              "      <td>Nintendo</td>\n",
              "      <td>E</td>\n",
              "    </tr>\n",
              "    <tr>\n",
              "      <th>1</th>\n",
              "      <td>Super Mario Bros.</td>\n",
              "      <td>NES</td>\n",
              "      <td>1985.0</td>\n",
              "      <td>Platform</td>\n",
              "      <td>Nintendo</td>\n",
              "      <td>29.08</td>\n",
              "      <td>3.58</td>\n",
              "      <td>6.81</td>\n",
              "      <td>0.77</td>\n",
              "      <td>40.24</td>\n",
              "      <td>NaN</td>\n",
              "      <td>NaN</td>\n",
              "      <td>NaN</td>\n",
              "      <td>NaN</td>\n",
              "      <td>NaN</td>\n",
              "      <td>NaN</td>\n",
              "    </tr>\n",
              "    <tr>\n",
              "      <th>2</th>\n",
              "      <td>Mario Kart Wii</td>\n",
              "      <td>Wii</td>\n",
              "      <td>2008.0</td>\n",
              "      <td>Racing</td>\n",
              "      <td>Nintendo</td>\n",
              "      <td>15.68</td>\n",
              "      <td>12.76</td>\n",
              "      <td>3.79</td>\n",
              "      <td>3.29</td>\n",
              "      <td>35.52</td>\n",
              "      <td>82.0</td>\n",
              "      <td>73.0</td>\n",
              "      <td>8.3</td>\n",
              "      <td>709.0</td>\n",
              "      <td>Nintendo</td>\n",
              "      <td>E</td>\n",
              "    </tr>\n",
              "    <tr>\n",
              "      <th>3</th>\n",
              "      <td>Wii Sports Resort</td>\n",
              "      <td>Wii</td>\n",
              "      <td>2009.0</td>\n",
              "      <td>Sports</td>\n",
              "      <td>Nintendo</td>\n",
              "      <td>15.61</td>\n",
              "      <td>10.93</td>\n",
              "      <td>3.28</td>\n",
              "      <td>2.95</td>\n",
              "      <td>32.77</td>\n",
              "      <td>80.0</td>\n",
              "      <td>73.0</td>\n",
              "      <td>8</td>\n",
              "      <td>192.0</td>\n",
              "      <td>Nintendo</td>\n",
              "      <td>E</td>\n",
              "    </tr>\n",
              "    <tr>\n",
              "      <th>4</th>\n",
              "      <td>Pokemon Red/Pokemon Blue</td>\n",
              "      <td>GB</td>\n",
              "      <td>1996.0</td>\n",
              "      <td>Role-Playing</td>\n",
              "      <td>Nintendo</td>\n",
              "      <td>11.27</td>\n",
              "      <td>8.89</td>\n",
              "      <td>10.22</td>\n",
              "      <td>1.00</td>\n",
              "      <td>31.37</td>\n",
              "      <td>NaN</td>\n",
              "      <td>NaN</td>\n",
              "      <td>NaN</td>\n",
              "      <td>NaN</td>\n",
              "      <td>NaN</td>\n",
              "      <td>NaN</td>\n",
              "    </tr>\n",
              "    <tr>\n",
              "      <th>...</th>\n",
              "      <td>...</td>\n",
              "      <td>...</td>\n",
              "      <td>...</td>\n",
              "      <td>...</td>\n",
              "      <td>...</td>\n",
              "      <td>...</td>\n",
              "      <td>...</td>\n",
              "      <td>...</td>\n",
              "      <td>...</td>\n",
              "      <td>...</td>\n",
              "      <td>...</td>\n",
              "      <td>...</td>\n",
              "      <td>...</td>\n",
              "      <td>...</td>\n",
              "      <td>...</td>\n",
              "      <td>...</td>\n",
              "    </tr>\n",
              "    <tr>\n",
              "      <th>16714</th>\n",
              "      <td>Samurai Warriors: Sanada Maru</td>\n",
              "      <td>PS3</td>\n",
              "      <td>2016.0</td>\n",
              "      <td>Action</td>\n",
              "      <td>Tecmo Koei</td>\n",
              "      <td>0.00</td>\n",
              "      <td>0.00</td>\n",
              "      <td>0.01</td>\n",
              "      <td>0.00</td>\n",
              "      <td>0.01</td>\n",
              "      <td>NaN</td>\n",
              "      <td>NaN</td>\n",
              "      <td>NaN</td>\n",
              "      <td>NaN</td>\n",
              "      <td>NaN</td>\n",
              "      <td>NaN</td>\n",
              "    </tr>\n",
              "    <tr>\n",
              "      <th>16715</th>\n",
              "      <td>LMA Manager 2007</td>\n",
              "      <td>X360</td>\n",
              "      <td>2006.0</td>\n",
              "      <td>Sports</td>\n",
              "      <td>Codemasters</td>\n",
              "      <td>0.00</td>\n",
              "      <td>0.01</td>\n",
              "      <td>0.00</td>\n",
              "      <td>0.00</td>\n",
              "      <td>0.01</td>\n",
              "      <td>NaN</td>\n",
              "      <td>NaN</td>\n",
              "      <td>NaN</td>\n",
              "      <td>NaN</td>\n",
              "      <td>NaN</td>\n",
              "      <td>NaN</td>\n",
              "    </tr>\n",
              "    <tr>\n",
              "      <th>16716</th>\n",
              "      <td>Haitaka no Psychedelica</td>\n",
              "      <td>PSV</td>\n",
              "      <td>2016.0</td>\n",
              "      <td>Adventure</td>\n",
              "      <td>Idea Factory</td>\n",
              "      <td>0.00</td>\n",
              "      <td>0.00</td>\n",
              "      <td>0.01</td>\n",
              "      <td>0.00</td>\n",
              "      <td>0.01</td>\n",
              "      <td>NaN</td>\n",
              "      <td>NaN</td>\n",
              "      <td>NaN</td>\n",
              "      <td>NaN</td>\n",
              "      <td>NaN</td>\n",
              "      <td>NaN</td>\n",
              "    </tr>\n",
              "    <tr>\n",
              "      <th>16717</th>\n",
              "      <td>Spirits &amp; Spells</td>\n",
              "      <td>GBA</td>\n",
              "      <td>2003.0</td>\n",
              "      <td>Platform</td>\n",
              "      <td>Wanadoo</td>\n",
              "      <td>0.01</td>\n",
              "      <td>0.00</td>\n",
              "      <td>0.00</td>\n",
              "      <td>0.00</td>\n",
              "      <td>0.01</td>\n",
              "      <td>NaN</td>\n",
              "      <td>NaN</td>\n",
              "      <td>NaN</td>\n",
              "      <td>NaN</td>\n",
              "      <td>NaN</td>\n",
              "      <td>NaN</td>\n",
              "    </tr>\n",
              "    <tr>\n",
              "      <th>16718</th>\n",
              "      <td>Winning Post 8 2016</td>\n",
              "      <td>PSV</td>\n",
              "      <td>2016.0</td>\n",
              "      <td>Simulation</td>\n",
              "      <td>Tecmo Koei</td>\n",
              "      <td>0.00</td>\n",
              "      <td>0.00</td>\n",
              "      <td>0.01</td>\n",
              "      <td>0.00</td>\n",
              "      <td>0.01</td>\n",
              "      <td>NaN</td>\n",
              "      <td>NaN</td>\n",
              "      <td>NaN</td>\n",
              "      <td>NaN</td>\n",
              "      <td>NaN</td>\n",
              "      <td>NaN</td>\n",
              "    </tr>\n",
              "  </tbody>\n",
              "</table>\n",
              "<p>16719 rows × 16 columns</p>\n",
              "</div>\n",
              "      <button class=\"colab-df-convert\" onclick=\"convertToInteractive('df-7c3582c5-a366-4625-8e3f-efa3a3e8132f')\"\n",
              "              title=\"Convert this dataframe to an interactive table.\"\n",
              "              style=\"display:none;\">\n",
              "        \n",
              "  <svg xmlns=\"http://www.w3.org/2000/svg\" height=\"24px\"viewBox=\"0 0 24 24\"\n",
              "       width=\"24px\">\n",
              "    <path d=\"M0 0h24v24H0V0z\" fill=\"none\"/>\n",
              "    <path d=\"M18.56 5.44l.94 2.06.94-2.06 2.06-.94-2.06-.94-.94-2.06-.94 2.06-2.06.94zm-11 1L8.5 8.5l.94-2.06 2.06-.94-2.06-.94L8.5 2.5l-.94 2.06-2.06.94zm10 10l.94 2.06.94-2.06 2.06-.94-2.06-.94-.94-2.06-.94 2.06-2.06.94z\"/><path d=\"M17.41 7.96l-1.37-1.37c-.4-.4-.92-.59-1.43-.59-.52 0-1.04.2-1.43.59L10.3 9.45l-7.72 7.72c-.78.78-.78 2.05 0 2.83L4 21.41c.39.39.9.59 1.41.59.51 0 1.02-.2 1.41-.59l7.78-7.78 2.81-2.81c.8-.78.8-2.07 0-2.86zM5.41 20L4 18.59l7.72-7.72 1.47 1.35L5.41 20z\"/>\n",
              "  </svg>\n",
              "      </button>\n",
              "      \n",
              "  <style>\n",
              "    .colab-df-container {\n",
              "      display:flex;\n",
              "      flex-wrap:wrap;\n",
              "      gap: 12px;\n",
              "    }\n",
              "\n",
              "    .colab-df-convert {\n",
              "      background-color: #E8F0FE;\n",
              "      border: none;\n",
              "      border-radius: 50%;\n",
              "      cursor: pointer;\n",
              "      display: none;\n",
              "      fill: #1967D2;\n",
              "      height: 32px;\n",
              "      padding: 0 0 0 0;\n",
              "      width: 32px;\n",
              "    }\n",
              "\n",
              "    .colab-df-convert:hover {\n",
              "      background-color: #E2EBFA;\n",
              "      box-shadow: 0px 1px 2px rgba(60, 64, 67, 0.3), 0px 1px 3px 1px rgba(60, 64, 67, 0.15);\n",
              "      fill: #174EA6;\n",
              "    }\n",
              "\n",
              "    [theme=dark] .colab-df-convert {\n",
              "      background-color: #3B4455;\n",
              "      fill: #D2E3FC;\n",
              "    }\n",
              "\n",
              "    [theme=dark] .colab-df-convert:hover {\n",
              "      background-color: #434B5C;\n",
              "      box-shadow: 0px 1px 3px 1px rgba(0, 0, 0, 0.15);\n",
              "      filter: drop-shadow(0px 1px 2px rgba(0, 0, 0, 0.3));\n",
              "      fill: #FFFFFF;\n",
              "    }\n",
              "  </style>\n",
              "\n",
              "      <script>\n",
              "        const buttonEl =\n",
              "          document.querySelector('#df-7c3582c5-a366-4625-8e3f-efa3a3e8132f button.colab-df-convert');\n",
              "        buttonEl.style.display =\n",
              "          google.colab.kernel.accessAllowed ? 'block' : 'none';\n",
              "\n",
              "        async function convertToInteractive(key) {\n",
              "          const element = document.querySelector('#df-7c3582c5-a366-4625-8e3f-efa3a3e8132f');\n",
              "          const dataTable =\n",
              "            await google.colab.kernel.invokeFunction('convertToInteractive',\n",
              "                                                     [key], {});\n",
              "          if (!dataTable) return;\n",
              "\n",
              "          const docLinkHtml = 'Like what you see? Visit the ' +\n",
              "            '<a target=\"_blank\" href=https://colab.research.google.com/notebooks/data_table.ipynb>data table notebook</a>'\n",
              "            + ' to learn more about interactive tables.';\n",
              "          element.innerHTML = '';\n",
              "          dataTable['output_type'] = 'display_data';\n",
              "          await google.colab.output.renderOutput(dataTable, element);\n",
              "          const docLink = document.createElement('div');\n",
              "          docLink.innerHTML = docLinkHtml;\n",
              "          element.appendChild(docLink);\n",
              "        }\n",
              "      </script>\n",
              "    </div>\n",
              "  </div>\n",
              "  "
            ]
          },
          "metadata": {},
          "execution_count": 2
        }
      ]
    },
    {
      "cell_type": "code",
      "source": [
        "#Изучим датафрейм\n",
        "df.info()"
      ],
      "metadata": {
        "colab": {
          "base_uri": "https://localhost:8080/"
        },
        "id": "iezIb29vd10g",
        "outputId": "94c5e49e-3138-4405-ec6c-0779099b485e"
      },
      "execution_count": null,
      "outputs": [
        {
          "output_type": "stream",
          "name": "stdout",
          "text": [
            "<class 'pandas.core.frame.DataFrame'>\n",
            "RangeIndex: 16719 entries, 0 to 16718\n",
            "Data columns (total 16 columns):\n",
            " #   Column           Non-Null Count  Dtype  \n",
            "---  ------           --------------  -----  \n",
            " 0   Name             16717 non-null  object \n",
            " 1   Platform         16719 non-null  object \n",
            " 2   Year_of_Release  16450 non-null  float64\n",
            " 3   Genre            16717 non-null  object \n",
            " 4   Publisher        16665 non-null  object \n",
            " 5   NA_Sales         16719 non-null  float64\n",
            " 6   EU_Sales         16719 non-null  float64\n",
            " 7   JP_Sales         16719 non-null  float64\n",
            " 8   Other_Sales      16719 non-null  float64\n",
            " 9   Global_Sales     16719 non-null  float64\n",
            " 10  Critic_Score     8137 non-null   float64\n",
            " 11  Critic_Count     8137 non-null   float64\n",
            " 12  User_Score       10015 non-null  object \n",
            " 13  User_Count       7590 non-null   float64\n",
            " 14  Developer        10096 non-null  object \n",
            " 15  Rating           9950 non-null   object \n",
            "dtypes: float64(9), object(7)\n",
            "memory usage: 2.0+ MB\n"
          ]
        }
      ]
    },
    {
      "cell_type": "markdown",
      "source": [
        " Как критики относятся к спортивным играм?"
      ],
      "metadata": {
        "id": "vwSyh0P32xyW"
      }
    },
    {
      "cell_type": "code",
      "source": [
        "#удалим отсутствующие значения\n",
        "df = df.dropna(subset=['Critic_Score'])"
      ],
      "metadata": {
        "id": "zfWCAx3UdTkh"
      },
      "execution_count": null,
      "outputs": []
    },
    {
      "cell_type": "code",
      "source": [
        "#Посмотрим среднюю оценку критиков по жанрам \n",
        "df_Genre_mean = df[['Genre', 'Critic_Score']].groupby('Genre').mean().reset_index().sort_values('Critic_Score')\n",
        "df_Genre_mean"
      ],
      "metadata": {
        "colab": {
          "base_uri": "https://localhost:8080/",
          "height": 426
        },
        "id": "Qzl_G_wJZ8Be",
        "outputId": "5eddaa31-7906-4b7d-afa2-351feab59c19"
      },
      "execution_count": null,
      "outputs": [
        {
          "output_type": "execute_result",
          "data": {
            "text/plain": [
              "           Genre  Critic_Score\n",
              "1      Adventure     65.331269\n",
              "3           Misc     66.619503\n",
              "0         Action     66.629101\n",
              "5         Puzzle     67.424107\n",
              "6         Racing     67.963612\n",
              "4       Platform     68.058350\n",
              "9     Simulation     68.619318\n",
              "2       Fighting     69.217604\n",
              "8        Shooter     70.181144\n",
              "10        Sports     71.968174\n",
              "11      Strategy     72.086093\n",
              "7   Role-Playing     72.652646"
            ],
            "text/html": [
              "\n",
              "  <div id=\"df-4579f54a-fdbb-4d62-8738-c2b1894534ed\">\n",
              "    <div class=\"colab-df-container\">\n",
              "      <div>\n",
              "<style scoped>\n",
              "    .dataframe tbody tr th:only-of-type {\n",
              "        vertical-align: middle;\n",
              "    }\n",
              "\n",
              "    .dataframe tbody tr th {\n",
              "        vertical-align: top;\n",
              "    }\n",
              "\n",
              "    .dataframe thead th {\n",
              "        text-align: right;\n",
              "    }\n",
              "</style>\n",
              "<table border=\"1\" class=\"dataframe\">\n",
              "  <thead>\n",
              "    <tr style=\"text-align: right;\">\n",
              "      <th></th>\n",
              "      <th>Genre</th>\n",
              "      <th>Critic_Score</th>\n",
              "    </tr>\n",
              "  </thead>\n",
              "  <tbody>\n",
              "    <tr>\n",
              "      <th>1</th>\n",
              "      <td>Adventure</td>\n",
              "      <td>65.331269</td>\n",
              "    </tr>\n",
              "    <tr>\n",
              "      <th>3</th>\n",
              "      <td>Misc</td>\n",
              "      <td>66.619503</td>\n",
              "    </tr>\n",
              "    <tr>\n",
              "      <th>0</th>\n",
              "      <td>Action</td>\n",
              "      <td>66.629101</td>\n",
              "    </tr>\n",
              "    <tr>\n",
              "      <th>5</th>\n",
              "      <td>Puzzle</td>\n",
              "      <td>67.424107</td>\n",
              "    </tr>\n",
              "    <tr>\n",
              "      <th>6</th>\n",
              "      <td>Racing</td>\n",
              "      <td>67.963612</td>\n",
              "    </tr>\n",
              "    <tr>\n",
              "      <th>4</th>\n",
              "      <td>Platform</td>\n",
              "      <td>68.058350</td>\n",
              "    </tr>\n",
              "    <tr>\n",
              "      <th>9</th>\n",
              "      <td>Simulation</td>\n",
              "      <td>68.619318</td>\n",
              "    </tr>\n",
              "    <tr>\n",
              "      <th>2</th>\n",
              "      <td>Fighting</td>\n",
              "      <td>69.217604</td>\n",
              "    </tr>\n",
              "    <tr>\n",
              "      <th>8</th>\n",
              "      <td>Shooter</td>\n",
              "      <td>70.181144</td>\n",
              "    </tr>\n",
              "    <tr>\n",
              "      <th>10</th>\n",
              "      <td>Sports</td>\n",
              "      <td>71.968174</td>\n",
              "    </tr>\n",
              "    <tr>\n",
              "      <th>11</th>\n",
              "      <td>Strategy</td>\n",
              "      <td>72.086093</td>\n",
              "    </tr>\n",
              "    <tr>\n",
              "      <th>7</th>\n",
              "      <td>Role-Playing</td>\n",
              "      <td>72.652646</td>\n",
              "    </tr>\n",
              "  </tbody>\n",
              "</table>\n",
              "</div>\n",
              "      <button class=\"colab-df-convert\" onclick=\"convertToInteractive('df-4579f54a-fdbb-4d62-8738-c2b1894534ed')\"\n",
              "              title=\"Convert this dataframe to an interactive table.\"\n",
              "              style=\"display:none;\">\n",
              "        \n",
              "  <svg xmlns=\"http://www.w3.org/2000/svg\" height=\"24px\"viewBox=\"0 0 24 24\"\n",
              "       width=\"24px\">\n",
              "    <path d=\"M0 0h24v24H0V0z\" fill=\"none\"/>\n",
              "    <path d=\"M18.56 5.44l.94 2.06.94-2.06 2.06-.94-2.06-.94-.94-2.06-.94 2.06-2.06.94zm-11 1L8.5 8.5l.94-2.06 2.06-.94-2.06-.94L8.5 2.5l-.94 2.06-2.06.94zm10 10l.94 2.06.94-2.06 2.06-.94-2.06-.94-.94-2.06-.94 2.06-2.06.94z\"/><path d=\"M17.41 7.96l-1.37-1.37c-.4-.4-.92-.59-1.43-.59-.52 0-1.04.2-1.43.59L10.3 9.45l-7.72 7.72c-.78.78-.78 2.05 0 2.83L4 21.41c.39.39.9.59 1.41.59.51 0 1.02-.2 1.41-.59l7.78-7.78 2.81-2.81c.8-.78.8-2.07 0-2.86zM5.41 20L4 18.59l7.72-7.72 1.47 1.35L5.41 20z\"/>\n",
              "  </svg>\n",
              "      </button>\n",
              "      \n",
              "  <style>\n",
              "    .colab-df-container {\n",
              "      display:flex;\n",
              "      flex-wrap:wrap;\n",
              "      gap: 12px;\n",
              "    }\n",
              "\n",
              "    .colab-df-convert {\n",
              "      background-color: #E8F0FE;\n",
              "      border: none;\n",
              "      border-radius: 50%;\n",
              "      cursor: pointer;\n",
              "      display: none;\n",
              "      fill: #1967D2;\n",
              "      height: 32px;\n",
              "      padding: 0 0 0 0;\n",
              "      width: 32px;\n",
              "    }\n",
              "\n",
              "    .colab-df-convert:hover {\n",
              "      background-color: #E2EBFA;\n",
              "      box-shadow: 0px 1px 2px rgba(60, 64, 67, 0.3), 0px 1px 3px 1px rgba(60, 64, 67, 0.15);\n",
              "      fill: #174EA6;\n",
              "    }\n",
              "\n",
              "    [theme=dark] .colab-df-convert {\n",
              "      background-color: #3B4455;\n",
              "      fill: #D2E3FC;\n",
              "    }\n",
              "\n",
              "    [theme=dark] .colab-df-convert:hover {\n",
              "      background-color: #434B5C;\n",
              "      box-shadow: 0px 1px 3px 1px rgba(0, 0, 0, 0.15);\n",
              "      filter: drop-shadow(0px 1px 2px rgba(0, 0, 0, 0.3));\n",
              "      fill: #FFFFFF;\n",
              "    }\n",
              "  </style>\n",
              "\n",
              "      <script>\n",
              "        const buttonEl =\n",
              "          document.querySelector('#df-4579f54a-fdbb-4d62-8738-c2b1894534ed button.colab-df-convert');\n",
              "        buttonEl.style.display =\n",
              "          google.colab.kernel.accessAllowed ? 'block' : 'none';\n",
              "\n",
              "        async function convertToInteractive(key) {\n",
              "          const element = document.querySelector('#df-4579f54a-fdbb-4d62-8738-c2b1894534ed');\n",
              "          const dataTable =\n",
              "            await google.colab.kernel.invokeFunction('convertToInteractive',\n",
              "                                                     [key], {});\n",
              "          if (!dataTable) return;\n",
              "\n",
              "          const docLinkHtml = 'Like what you see? Visit the ' +\n",
              "            '<a target=\"_blank\" href=https://colab.research.google.com/notebooks/data_table.ipynb>data table notebook</a>'\n",
              "            + ' to learn more about interactive tables.';\n",
              "          element.innerHTML = '';\n",
              "          dataTable['output_type'] = 'display_data';\n",
              "          await google.colab.output.renderOutput(dataTable, element);\n",
              "          const docLink = document.createElement('div');\n",
              "          docLink.innerHTML = docLinkHtml;\n",
              "          element.appendChild(docLink);\n",
              "        }\n",
              "      </script>\n",
              "    </div>\n",
              "  </div>\n",
              "  "
            ]
          },
          "metadata": {},
          "execution_count": 5
        }
      ]
    },
    {
      "cell_type": "code",
      "source": [
        "#Визуализируем среднюю оценку критиков по жанрам\n",
        "sns.barplot(x='Critic_Score', y='Genre', data=df_Genre_mean).set_title('Средняя оценка критиков')\n",
        "plt.show()"
      ],
      "metadata": {
        "colab": {
          "base_uri": "https://localhost:8080/",
          "height": 296
        },
        "id": "fR1sHxyZkNtG",
        "outputId": "8b7c5704-8abc-4458-b0f2-ab55b848de39"
      },
      "execution_count": null,
      "outputs": [
        {
          "output_type": "display_data",
          "data": {
            "text/plain": [
              "<Figure size 432x288 with 1 Axes>"
            ],
            "image/png": "[encoded data removed]"
          },
          "metadata": {
            "needs_background": "light"
          }
        }
      ]
    },
    {
      "cell_type": "code",
      "source": [
        "#Видим что жанр Sports находится на 3-ем месте\n",
        "#Выдвенем гипотезы что:\n",
        "#1. Средняя оценка критиков жанра Sports не отличается статистически значимо от средней оценки жанра Role-Playing\n",
        "#    H0 - Средняя оценка критиков жанра Sports = Средняя оценка жанра Role-Playing\n",
        "#    Н1 - Средняя оценка критиков жанра Sports != Средняя оценка жанра Role-Playing\n",
        "#2. Средняя оценка критиков жанра Sports не отличается статистически значимо от средней оценки жанра Strategy\n",
        "#    H0 - Средняя оценка критиков жанра Sports = Средняя оценка жанра Strategy\n",
        "#    Н1 - Средняя оценка критиков жанра Sports != Средняя оценка жанра Strategy\n",
        "# Применим поправку Бонферони "
      ],
      "metadata": {
        "id": "WXW1MtOhvyUH"
      },
      "execution_count": null,
      "outputs": []
    },
    {
      "cell_type": "code",
      "source": [
        "df_Sports = df.loc[df['Genre'] == 'Sports']\n",
        "df_Role_Playing = df.loc[df['Genre'] == 'Role-Playing']\n",
        "df_Strategy = df.loc[df['Genre'] == 'Strategy']"
      ],
      "metadata": {
        "id": "3z_qGNlidjVQ"
      },
      "execution_count": null,
      "outputs": []
    },
    {
      "cell_type": "code",
      "source": [
        "#Посмотрим кол-во данных, приведем к одинаковым объемам выборки.\n",
        "print(df_Sports['Critic_Score'].count())\n",
        "print(df_Role_Playing['Critic_Score'].count())\n",
        "print(df_Strategy['Critic_Score'].count())"
      ],
      "metadata": {
        "colab": {
          "base_uri": "https://localhost:8080/"
        },
        "id": "jt66CN1g9xAD",
        "outputId": "f918d0cd-bfbc-4658-ba8d-fc33ac04783d"
      },
      "execution_count": null,
      "outputs": [
        {
          "output_type": "stream",
          "name": "stdout",
          "text": [
            "1194\n",
            "737\n",
            "302\n"
          ]
        }
      ]
    },
    {
      "cell_type": "code",
      "source": [
        "df_Sports = df_Sports.sample(df_Strategy['Critic_Score'].count())\n",
        "df_Role_Playing = df_Role_Playing.sample(df_Strategy['Critic_Score'].count())\n",
        "print(df_Sports['Critic_Score'].count())\n",
        "print(df_Strategy['Critic_Score'].count())"
      ],
      "metadata": {
        "colab": {
          "base_uri": "https://localhost:8080/"
        },
        "id": "jPWcUrIq-rI-",
        "outputId": "e9eebc50-d547-46d9-ec3d-9500295d3cae"
      },
      "execution_count": null,
      "outputs": [
        {
          "output_type": "stream",
          "name": "stdout",
          "text": [
            "302\n",
            "302\n"
          ]
        }
      ]
    },
    {
      "cell_type": "code",
      "source": [
        "alpha = 0.05/2\n",
        "result = st.ttest_ind(df_Sports['Critic_Score'], df_Role_Playing['Critic_Score'], equal_var=False)\n",
        "print(result)\n",
        "print(df_Sports['Critic_Score'].mean())\n",
        "print(df_Role_Playing['Critic_Score'].mean())\n",
        "\n",
        "if (result.pvalue < alpha):\n",
        "    print('Отвергаем нулевую гипотезу, Средняя оценка критиков жанра Sports != Средняя оценка жанра Role-Playing')\n",
        "else:\n",
        "    print('Не отвергаем нулевую гипотезу')"
      ],
      "metadata": {
        "colab": {
          "base_uri": "https://localhost:8080/"
        },
        "id": "JQT5SaCkgQRL",
        "outputId": "60511602-554b-489d-bfad-8b35af216128"
      },
      "execution_count": null,
      "outputs": [
        {
          "output_type": "stream",
          "name": "stdout",
          "text": [
            "Ttest_indResult(statistic=-0.3196602278284492, pvalue=0.7493414682158415)\n",
            "71.15894039735099\n",
            "71.50993377483444\n",
            "Не отвергаем нулевую гипотезу\n"
          ]
        }
      ]
    },
    {
      "cell_type": "code",
      "source": [
        "alpha = 0.05/2\n",
        "result_1 = st.ttest_ind(df_Sports['Critic_Score'], df_Strategy['Critic_Score'], equal_var=False)\n",
        "print(result)\n",
        "print(df_Sports['Critic_Score'].mean())\n",
        "print(df_Strategy['Critic_Score'].mean())\n",
        "\n",
        "if (result.pvalue < alpha):\n",
        "    print('Отвергаем нулевую гипотезу, Средняя оценка критиков жанра Sports = Средняя оценка жанра Strategy')\n",
        "else:\n",
        "    print('Не отвергаем нулевую гипотезу')"
      ],
      "metadata": {
        "colab": {
          "base_uri": "https://localhost:8080/"
        },
        "id": "IHkKQ0vnh30r",
        "outputId": "ab7599de-9e80-486c-e6ab-92eb23919cbd"
      },
      "execution_count": null,
      "outputs": [
        {
          "output_type": "stream",
          "name": "stdout",
          "text": [
            "Ttest_indResult(statistic=-0.3196602278284492, pvalue=0.7493414682158415)\n",
            "71.15894039735099\n",
            "72.08609271523179\n",
            "Не отвергаем нулевую гипотезу\n"
          ]
        }
      ]
    },
    {
      "cell_type": "code",
      "source": [
        "#Вывод: при данном наборе данных, мы не можем отвергнуть гипотезу о том, что критики относятся к жанру Sports так же как и к жанрам Role-Playing и Strategy."
      ],
      "metadata": {
        "id": "2KE8YWA1xqw6"
      },
      "execution_count": null,
      "outputs": []
    },
    {
      "cell_type": "markdown",
      "source": [
        "Критикам нравятся больше игры на PC или на PS4?"
      ],
      "metadata": {
        "id": "9DMwN6O12Vev"
      }
    },
    {
      "cell_type": "code",
      "source": [
        "df_PC = df.loc[df['Platform'] == 'PC']\n",
        "df_PS4 = df.loc[df['Platform'] == 'PS4']"
      ],
      "metadata": {
        "id": "FWDXLID4zhK1"
      },
      "execution_count": null,
      "outputs": []
    },
    {
      "cell_type": "code",
      "source": [
        "#Посмотрим кол-во данных, приведем к одинаковым объемам выборки.\n",
        "print(df_PC['Critic_Score'].count())\n",
        "print(df_PS4['Critic_Score'].count())"
      ],
      "metadata": {
        "colab": {
          "base_uri": "https://localhost:8080/"
        },
        "id": "8Z3S4sqM9FWH",
        "outputId": "86f333a6-aadc-468f-c9ae-2300419f4e36"
      },
      "execution_count": null,
      "outputs": [
        {
          "output_type": "stream",
          "name": "stdout",
          "text": [
            "715\n",
            "252\n"
          ]
        }
      ]
    },
    {
      "cell_type": "code",
      "source": [
        "df_PC = df_PC.sample(df_PS4['Critic_Score'].count())\n",
        "df_PC['Critic_Score'].count()"
      ],
      "metadata": {
        "colab": {
          "base_uri": "https://localhost:8080/"
        },
        "id": "yxqb0bkS0SNZ",
        "outputId": "32fece40-1d97-4fed-d940-30049448f339"
      },
      "execution_count": null,
      "outputs": [
        {
          "output_type": "execute_result",
          "data": {
            "text/plain": [
              "252"
            ]
          },
          "metadata": {},
          "execution_count": 16
        }
      ]
    },
    {
      "cell_type": "code",
      "source": [
        "#    H0 - Критикам нравятся меньше либо так же игры на PC чем на PS4\n",
        "#    Н1 - Критикам нравятся больше игры на PC чем на PS4"
      ],
      "metadata": {
        "id": "zGw-lM-Z53oX"
      },
      "execution_count": null,
      "outputs": []
    },
    {
      "cell_type": "code",
      "source": [
        "alpha = 0.05\n",
        "result = st.ttest_ind(df_PC['Critic_Score'], df_PS4['Critic_Score'], alternative='greater', equal_var=False)\n",
        "print(df_PC['Critic_Score'].mean())\n",
        "print(result)\n",
        "if result.pvalue < alpha:\n",
        "    print('Отвергаем нулевую гипотезу, Критикам нравятся больше игры на PC чем на PS4')\n",
        "else:\n",
        "    print('Не отвергаем нулевую гипотезу')"
      ],
      "metadata": {
        "colab": {
          "base_uri": "https://localhost:8080/"
        },
        "id": "YG2H3uNV0Woh",
        "outputId": "e20d5929-b07c-481f-de9e-c74bfc893447"
      },
      "execution_count": null,
      "outputs": [
        {
          "output_type": "stream",
          "name": "stdout",
          "text": [
            "76.37301587301587\n",
            "Ttest_indResult(statistic=4.072469406973987, pvalue=2.7078090908923937e-05)\n",
            "Отвергаем нулевую гипотезу, Критикам нравятся больше игры на PC чем на PS4\n"
          ]
        }
      ]
    },
    {
      "cell_type": "code",
      "source": [
        "#Вывод: при данном наборе данных, мы отвергаем нулевую гипотезу, Критикам нравятся больше игры на PC чем на PS4"
      ],
      "metadata": {
        "id": "dR-KAnw-64Rg"
      },
      "execution_count": null,
      "outputs": []
    },
    {
      "cell_type": "markdown",
      "source": [
        "Критикам больше нравятся стрелялки или стратегии?"
      ],
      "metadata": {
        "id": "whbqXphW224j"
      }
    },
    {
      "cell_type": "code",
      "source": [
        "#    H0 - Критикам меньше либо так же нравятся стратегии чем стрелялки\n",
        "#    Н1 - Критикам больше нравятся стратегии чем стрелялки"
      ],
      "metadata": {
        "id": "YBIrWsPQ8XD_"
      },
      "execution_count": null,
      "outputs": []
    },
    {
      "cell_type": "code",
      "source": [
        "df_Shooter = df.loc[df['Genre'] == 'Shooter']"
      ],
      "metadata": {
        "id": "0U6mAZv97SDb"
      },
      "execution_count": null,
      "outputs": []
    },
    {
      "cell_type": "code",
      "source": [
        "#Посмотрим кол-во данных, приведем к одинаковым объемам выборки.\n",
        "print(df_Shooter['Critic_Score'].count())\n",
        "print(df_Strategy['Critic_Score'].count())"
      ],
      "metadata": {
        "colab": {
          "base_uri": "https://localhost:8080/"
        },
        "id": "H0SZNMdk9n7W",
        "outputId": "e1e876d6-af9f-45ab-eb8c-51a2f9ada532"
      },
      "execution_count": null,
      "outputs": [
        {
          "output_type": "stream",
          "name": "stdout",
          "text": [
            "944\n",
            "302\n"
          ]
        }
      ]
    },
    {
      "cell_type": "code",
      "source": [
        "df_Shooter = df_Shooter.sample(df_Strategy['Critic_Score'].count())\n",
        "df_Shooter['Critic_Score'].count()"
      ],
      "metadata": {
        "colab": {
          "base_uri": "https://localhost:8080/"
        },
        "id": "LVgzepGc0nI-",
        "outputId": "d05bd7e3-8d54-4244-88fc-7425902d43b5"
      },
      "execution_count": null,
      "outputs": [
        {
          "output_type": "execute_result",
          "data": {
            "text/plain": [
              "302"
            ]
          },
          "metadata": {},
          "execution_count": 23
        }
      ]
    },
    {
      "cell_type": "code",
      "source": [
        "alpha = 0.05\n",
        "result = st.ttest_ind(df_Strategy['Critic_Score'], df_Shooter['Critic_Score'], alternative='greater', equal_var=False)\n",
        "print(df_PC['Critic_Score'].mean())\n",
        "print(result)\n",
        "if result.pvalue < alpha:\n",
        "    print('Отвергаем нулевую гипотезу, Критикам больше нравятся стратегии чем стрелялки')\n",
        "else:\n",
        "    print('Не отвергаем нулевую гипотезу')"
      ],
      "metadata": {
        "colab": {
          "base_uri": "https://localhost:8080/"
        },
        "id": "k2YDJO4W7wsA",
        "outputId": "2f72c524-229b-42d7-9ff2-b74172b6e6b8"
      },
      "execution_count": null,
      "outputs": [
        {
          "output_type": "stream",
          "name": "stdout",
          "text": [
            "76.37301587301587\n",
            "Ttest_indResult(statistic=1.3613100184764033, pvalue=0.08697253893401714)\n",
            "Не отвергаем нулевую гипотезу\n"
          ]
        }
      ]
    },
    {
      "cell_type": "code",
      "source": [
        "#при данном наборе данных, мы отвергаем нулевую гипотезу, Критикам меньше либо так же нравятся стратегии чем стрелялки\n",
        "#проведем еще один тест на это раз двухсторонний, т.к. есть вероятность что критикам одинаково нравятся как стрелялки так и стратегии\n",
        "#    H0 - Критикам одинаково нравятся как стрелялки так и стратегии\n",
        "#    Н1 - Критикам не одинаково нравятся как стрелялки так и стратегии"
      ],
      "metadata": {
        "id": "cb3MOB9e86Ff"
      },
      "execution_count": null,
      "outputs": []
    },
    {
      "cell_type": "code",
      "source": [
        "alpha = 0.05\n",
        "result = st.ttest_ind(df_Strategy['Critic_Score'], df_Shooter['Critic_Score'], alternative='two-sided', equal_var=False)\n",
        "print(df_PC['Critic_Score'].mean())\n",
        "print(result)\n",
        "if result.pvalue < alpha:\n",
        "    print('Отвергаем нулевую гипотезу, Критикам больше нравятся стратегии чем стрелялки')\n",
        "else:\n",
        "    print('Не отвергаем нулевую гипотезу')"
      ],
      "metadata": {
        "colab": {
          "base_uri": "https://localhost:8080/"
        },
        "id": "nIhPWei45k6A",
        "outputId": "a732a199-8d2d-41c8-f780-0feab455feb5"
      },
      "execution_count": null,
      "outputs": [
        {
          "output_type": "stream",
          "name": "stdout",
          "text": [
            "76.37301587301587\n",
            "Ttest_indResult(statistic=1.3613100184764033, pvalue=0.1739450778680343)\n",
            "Не отвергаем нулевую гипотезу\n"
          ]
        }
      ]
    },
    {
      "cell_type": "code",
      "source": [
        "#Вывод: при данном наборе данных, мы не можем отвергнуть гипотезу о том, что Критикам одинаково нравятся как стрелялки так и стратегии"
      ],
      "metadata": {
        "id": "5b-nc0a-6b8w"
      },
      "execution_count": null,
      "outputs": []
    },
    {
      "cell_type": "markdown",
      "source": [
        "Задание 2\n",
        "\n",
        "Реализуйте базовую модель логистической регрессии для классификации текстовых сообщений по признаку спама. Для этого:\n",
        "\n",
        "1) Привидите весь текст к нижнему регистру;\n",
        "\n",
        "2) Удалите мусорные символы;\n",
        "\n",
        "3) Удалите стоп-слова;\n",
        "\n",
        "4) Привидите все слова к нормальной форме;\n",
        "\n",
        "5) Преобразуйте все сообщения в вектора TF-IDF. \n",
        "\n",
        "Вам поможет следующий код:\n",
        "\n",
        "from sklearn.feature_extraction.text import TfidfVectorizer\n",
        "\n",
        "tfidf = TfidfVectorizer()\n",
        "tfidf_matrix = tfidf.fit_transform(df.Message)\n",
        "names = tfidf.get_feature_names()\n",
        "tfidf_matrix = pd.DataFrame(tfidf_matrix.toarray(), columns=names)\n",
        "Можете поэкспериментировать с параметрами TfidfVectorizer;\n",
        "\n",
        "6) Разделите данные на тестовые и тренировочные в соотношении 30/70, укажите random_state=42. Используйте train_test_split;\n",
        "\n",
        "7) Постройте модель логистической регрессии, укажите random_state=42, оцените ее точность на тестовых данных;\n",
        "\n",
        "8) Опишите результаты при помощи confusion_matrix;\n",
        "\n",
        "9) Постройте датафрейм, который будет содержать все исходные тексты сообщений, классифицированные неправильно (с указанием фактического и предсказанного)."
      ],
      "metadata": {
        "id": "3gGxfEay7Ocp"
      }
    },
    {
      "cell_type": "code",
      "source": [
        "df_text = pd.read_csv('https://raw.githubusercontent.com/IlyaShirmanov/Portfolio_Data_Science_Files/main/spam.csv')\n",
        "df_text"
      ],
      "metadata": {
        "id": "fxQ7JtW07lxl",
        "colab": {
          "base_uri": "https://localhost:8080/",
          "height": 424
        },
        "outputId": "c3a05d47-bcca-4ed5-f74b-87acc6fcd5be"
      },
      "execution_count": null,
      "outputs": [
        {
          "output_type": "execute_result",
          "data": {
            "text/plain": [
              "     Category                                            Message\n",
              "0         ham  Go until jurong point, crazy.. Available only ...\n",
              "1         ham                      Ok lar... Joking wif u oni...\n",
              "2        spam  Free entry in 2 a wkly comp to win FA Cup fina...\n",
              "3         ham  U dun say so early hor... U c already then say...\n",
              "4         ham  Nah I don't think he goes to usf, he lives aro...\n",
              "...       ...                                                ...\n",
              "5567     spam  This is the 2nd time we have tried 2 contact u...\n",
              "5568      ham               Will ü b going to esplanade fr home?\n",
              "5569      ham  Pity, * was in mood for that. So...any other s...\n",
              "5570      ham  The guy did some bitching but I acted like i'd...\n",
              "5571      ham                         Rofl. Its true to its name\n",
              "\n",
              "[5572 rows x 2 columns]"
            ],
            "text/html": [
              "\n",
              "  <div id=\"df-e2bb4e50-fddc-411e-9e38-3ddf16dbb830\">\n",
              "    <div class=\"colab-df-container\">\n",
              "      <div>\n",
              "<style scoped>\n",
              "    .dataframe tbody tr th:only-of-type {\n",
              "        vertical-align: middle;\n",
              "    }\n",
              "\n",
              "    .dataframe tbody tr th {\n",
              "        vertical-align: top;\n",
              "    }\n",
              "\n",
              "    .dataframe thead th {\n",
              "        text-align: right;\n",
              "    }\n",
              "</style>\n",
              "<table border=\"1\" class=\"dataframe\">\n",
              "  <thead>\n",
              "    <tr style=\"text-align: right;\">\n",
              "      <th></th>\n",
              "      <th>Category</th>\n",
              "      <th>Message</th>\n",
              "    </tr>\n",
              "  </thead>\n",
              "  <tbody>\n",
              "    <tr>\n",
              "      <th>0</th>\n",
              "      <td>ham</td>\n",
              "      <td>Go until jurong point, crazy.. Available only ...</td>\n",
              "    </tr>\n",
              "    <tr>\n",
              "      <th>1</th>\n",
              "      <td>ham</td>\n",
              "      <td>Ok lar... Joking wif u oni...</td>\n",
              "    </tr>\n",
              "    <tr>\n",
              "      <th>2</th>\n",
              "      <td>spam</td>\n",
              "      <td>Free entry in 2 a wkly comp to win FA Cup fina...</td>\n",
              "    </tr>\n",
              "    <tr>\n",
              "      <th>3</th>\n",
              "      <td>ham</td>\n",
              "      <td>U dun say so early hor... U c already then say...</td>\n",
              "    </tr>\n",
              "    <tr>\n",
              "      <th>4</th>\n",
              "      <td>ham</td>\n",
              "      <td>Nah I don't think he goes to usf, he lives aro...</td>\n",
              "    </tr>\n",
              "    <tr>\n",
              "      <th>...</th>\n",
              "      <td>...</td>\n",
              "      <td>...</td>\n",
              "    </tr>\n",
              "    <tr>\n",
              "      <th>5567</th>\n",
              "      <td>spam</td>\n",
              "      <td>This is the 2nd time we have tried 2 contact u...</td>\n",
              "    </tr>\n",
              "    <tr>\n",
              "      <th>5568</th>\n",
              "      <td>ham</td>\n",
              "      <td>Will ü b going to esplanade fr home?</td>\n",
              "    </tr>\n",
              "    <tr>\n",
              "      <th>5569</th>\n",
              "      <td>ham</td>\n",
              "      <td>Pity, * was in mood for that. So...any other s...</td>\n",
              "    </tr>\n",
              "    <tr>\n",
              "      <th>5570</th>\n",
              "      <td>ham</td>\n",
              "      <td>The guy did some bitching but I acted like i'd...</td>\n",
              "    </tr>\n",
              "    <tr>\n",
              "      <th>5571</th>\n",
              "      <td>ham</td>\n",
              "      <td>Rofl. Its true to its name</td>\n",
              "    </tr>\n",
              "  </tbody>\n",
              "</table>\n",
              "<p>5572 rows × 2 columns</p>\n",
              "</div>\n",
              "      <button class=\"colab-df-convert\" onclick=\"convertToInteractive('df-e2bb4e50-fddc-411e-9e38-3ddf16dbb830')\"\n",
              "              title=\"Convert this dataframe to an interactive table.\"\n",
              "              style=\"display:none;\">\n",
              "        \n",
              "  <svg xmlns=\"http://www.w3.org/2000/svg\" height=\"24px\"viewBox=\"0 0 24 24\"\n",
              "       width=\"24px\">\n",
              "    <path d=\"M0 0h24v24H0V0z\" fill=\"none\"/>\n",
              "    <path d=\"M18.56 5.44l.94 2.06.94-2.06 2.06-.94-2.06-.94-.94-2.06-.94 2.06-2.06.94zm-11 1L8.5 8.5l.94-2.06 2.06-.94-2.06-.94L8.5 2.5l-.94 2.06-2.06.94zm10 10l.94 2.06.94-2.06 2.06-.94-2.06-.94-.94-2.06-.94 2.06-2.06.94z\"/><path d=\"M17.41 7.96l-1.37-1.37c-.4-.4-.92-.59-1.43-.59-.52 0-1.04.2-1.43.59L10.3 9.45l-7.72 7.72c-.78.78-.78 2.05 0 2.83L4 21.41c.39.39.9.59 1.41.59.51 0 1.02-.2 1.41-.59l7.78-7.78 2.81-2.81c.8-.78.8-2.07 0-2.86zM5.41 20L4 18.59l7.72-7.72 1.47 1.35L5.41 20z\"/>\n",
              "  </svg>\n",
              "      </button>\n",
              "      \n",
              "  <style>\n",
              "    .colab-df-container {\n",
              "      display:flex;\n",
              "      flex-wrap:wrap;\n",
              "      gap: 12px;\n",
              "    }\n",
              "\n",
              "    .colab-df-convert {\n",
              "      background-color: #E8F0FE;\n",
              "      border: none;\n",
              "      border-radius: 50%;\n",
              "      cursor: pointer;\n",
              "      display: none;\n",
              "      fill: #1967D2;\n",
              "      height: 32px;\n",
              "      padding: 0 0 0 0;\n",
              "      width: 32px;\n",
              "    }\n",
              "\n",
              "    .colab-df-convert:hover {\n",
              "      background-color: #E2EBFA;\n",
              "      box-shadow: 0px 1px 2px rgba(60, 64, 67, 0.3), 0px 1px 3px 1px rgba(60, 64, 67, 0.15);\n",
              "      fill: #174EA6;\n",
              "    }\n",
              "\n",
              "    [theme=dark] .colab-df-convert {\n",
              "      background-color: #3B4455;\n",
              "      fill: #D2E3FC;\n",
              "    }\n",
              "\n",
              "    [theme=dark] .colab-df-convert:hover {\n",
              "      background-color: #434B5C;\n",
              "      box-shadow: 0px 1px 3px 1px rgba(0, 0, 0, 0.15);\n",
              "      filter: drop-shadow(0px 1px 2px rgba(0, 0, 0, 0.3));\n",
              "      fill: #FFFFFF;\n",
              "    }\n",
              "  </style>\n",
              "\n",
              "      <script>\n",
              "        const buttonEl =\n",
              "          document.querySelector('#df-e2bb4e50-fddc-411e-9e38-3ddf16dbb830 button.colab-df-convert');\n",
              "        buttonEl.style.display =\n",
              "          google.colab.kernel.accessAllowed ? 'block' : 'none';\n",
              "\n",
              "        async function convertToInteractive(key) {\n",
              "          const element = document.querySelector('#df-e2bb4e50-fddc-411e-9e38-3ddf16dbb830');\n",
              "          const dataTable =\n",
              "            await google.colab.kernel.invokeFunction('convertToInteractive',\n",
              "                                                     [key], {});\n",
              "          if (!dataTable) return;\n",
              "\n",
              "          const docLinkHtml = 'Like what you see? Visit the ' +\n",
              "            '<a target=\"_blank\" href=https://colab.research.google.com/notebooks/data_table.ipynb>data table notebook</a>'\n",
              "            + ' to learn more about interactive tables.';\n",
              "          element.innerHTML = '';\n",
              "          dataTable['output_type'] = 'display_data';\n",
              "          await google.colab.output.renderOutput(dataTable, element);\n",
              "          const docLink = document.createElement('div');\n",
              "          docLink.innerHTML = docLinkHtml;\n",
              "          element.appendChild(docLink);\n",
              "        }\n",
              "      </script>\n",
              "    </div>\n",
              "  </div>\n",
              "  "
            ]
          },
          "metadata": {},
          "execution_count": 28
        }
      ]
    },
    {
      "cell_type": "code",
      "source": [
        "#Создадим целевую переменную, заменим значения на 0 и 1\n",
        "category = df_text['Category']\n",
        "category"
      ],
      "metadata": {
        "colab": {
          "base_uri": "https://localhost:8080/"
        },
        "id": "2ipgNxqVGLv7",
        "outputId": "248c9b8e-b1ed-439e-cd23-5727f976c635"
      },
      "execution_count": null,
      "outputs": [
        {
          "output_type": "execute_result",
          "data": {
            "text/plain": [
              "0        ham\n",
              "1        ham\n",
              "2       spam\n",
              "3        ham\n",
              "4        ham\n",
              "        ... \n",
              "5567    spam\n",
              "5568     ham\n",
              "5569     ham\n",
              "5570     ham\n",
              "5571     ham\n",
              "Name: Category, Length: 5572, dtype: object"
            ]
          },
          "metadata": {},
          "execution_count": 29
        }
      ]
    },
    {
      "cell_type": "code",
      "source": [
        "category_boll = category.replace({'ham' : 1, 'spam' : 0})\n",
        "category_boll = np.array(category_boll)\n",
        "category_boll"
      ],
      "metadata": {
        "colab": {
          "base_uri": "https://localhost:8080/"
        },
        "id": "iZAEQ9bYSa5s",
        "outputId": "6c262e47-aa9f-4886-da36-610e260a72f6"
      },
      "execution_count": null,
      "outputs": [
        {
          "output_type": "execute_result",
          "data": {
            "text/plain": [
              "array([1, 1, 0, ..., 1, 1, 1])"
            ]
          },
          "metadata": {},
          "execution_count": 30
        }
      ]
    },
    {
      "cell_type": "code",
      "source": [
        "#Привидем весь текст к нижнему регистру\n",
        "#Удалим мусорные символы\n",
        "#Удалим стоп-слова\n",
        "#Привидием все слова к нормальной форме\n",
        "message = df_text['Message']\n",
        "message"
      ],
      "metadata": {
        "colab": {
          "base_uri": "https://localhost:8080/"
        },
        "id": "3HIkHb-TFoUv",
        "outputId": "e730c732-834f-467d-a0b6-400edeb860d9"
      },
      "execution_count": null,
      "outputs": [
        {
          "output_type": "execute_result",
          "data": {
            "text/plain": [
              "0       Go until jurong point, crazy.. Available only ...\n",
              "1                           Ok lar... Joking wif u oni...\n",
              "2       Free entry in 2 a wkly comp to win FA Cup fina...\n",
              "3       U dun say so early hor... U c already then say...\n",
              "4       Nah I don't think he goes to usf, he lives aro...\n",
              "                              ...                        \n",
              "5567    This is the 2nd time we have tried 2 contact u...\n",
              "5568                 Will ü b going to esplanade fr home?\n",
              "5569    Pity, * was in mood for that. So...any other s...\n",
              "5570    The guy did some bitching but I acted like i'd...\n",
              "5571                           Rofl. Its true to its name\n",
              "Name: Message, Length: 5572, dtype: object"
            ]
          },
          "metadata": {},
          "execution_count": 31
        }
      ]
    },
    {
      "cell_type": "code",
      "source": [
        "message_lower_case = message.str.lower()\n",
        "message_lower_case"
      ],
      "metadata": {
        "colab": {
          "base_uri": "https://localhost:8080/"
        },
        "id": "51VaK-xPHFUP",
        "outputId": "6630a205-376c-4e40-e28c-cc5a52910015"
      },
      "execution_count": null,
      "outputs": [
        {
          "output_type": "execute_result",
          "data": {
            "text/plain": [
              "0       go until jurong point, crazy.. available only ...\n",
              "1                           ok lar... joking wif u oni...\n",
              "2       free entry in 2 a wkly comp to win fa cup fina...\n",
              "3       u dun say so early hor... u c already then say...\n",
              "4       nah i don't think he goes to usf, he lives aro...\n",
              "                              ...                        \n",
              "5567    this is the 2nd time we have tried 2 contact u...\n",
              "5568                 will ü b going to esplanade fr home?\n",
              "5569    pity, * was in mood for that. so...any other s...\n",
              "5570    the guy did some bitching but i acted like i'd...\n",
              "5571                           rofl. its true to its name\n",
              "Name: Message, Length: 5572, dtype: object"
            ]
          },
          "metadata": {},
          "execution_count": 32
        }
      ]
    },
    {
      "cell_type": "code",
      "source": [
        "only_words_message = message_lower_case.replace('[\\W_]+', ' ', regex=True)\n",
        "only_words_message"
      ],
      "metadata": {
        "colab": {
          "base_uri": "https://localhost:8080/"
        },
        "id": "pqxGXB9UHsmr",
        "outputId": "6b3ad3e7-45ee-4d2a-b9fe-2f612bdb3903"
      },
      "execution_count": null,
      "outputs": [
        {
          "output_type": "execute_result",
          "data": {
            "text/plain": [
              "0       go until jurong point crazy available only in ...\n",
              "1                                ok lar joking wif u oni \n",
              "2       free entry in 2 a wkly comp to win fa cup fina...\n",
              "3            u dun say so early hor u c already then say \n",
              "4       nah i don t think he goes to usf he lives arou...\n",
              "                              ...                        \n",
              "5567    this is the 2nd time we have tried 2 contact u...\n",
              "5568                 will ü b going to esplanade fr home \n",
              "5569    pity was in mood for that so any other suggest...\n",
              "5570    the guy did some bitching but i acted like i d...\n",
              "5571                            rofl its true to its name\n",
              "Name: Message, Length: 5572, dtype: object"
            ]
          },
          "metadata": {},
          "execution_count": 33
        }
      ]
    },
    {
      "cell_type": "code",
      "source": [
        "nltk.download('stopwords')\n",
        "stopwords_set = stopwords.words('english')\n",
        "pat = r'\\b(?:{})\\b'.format('|'.join(stopwords_set))\n",
        "without_message = only_words_message.str.replace(pat, ' ')\n",
        "without_message = without_message.str.replace(r'\\s+', ' ')\n",
        "without_message"
      ],
      "metadata": {
        "colab": {
          "base_uri": "https://localhost:8080/"
        },
        "id": "swcsivEuJaWo",
        "outputId": "7f3682e1-7a7c-4af2-90a6-d9ad8d51256b"
      },
      "execution_count": null,
      "outputs": [
        {
          "output_type": "stream",
          "name": "stderr",
          "text": [
            "[nltk_data] Downloading package stopwords to /root/nltk_data...\n",
            "[nltk_data]   Package stopwords is already up-to-date!\n",
            "/usr/local/lib/python3.7/dist-packages/ipykernel_launcher.py:4: FutureWarning: The default value of regex will change from True to False in a future version.\n",
            "  after removing the cwd from sys.path.\n",
            "/usr/local/lib/python3.7/dist-packages/ipykernel_launcher.py:5: FutureWarning: The default value of regex will change from True to False in a future version.\n",
            "  \"\"\"\n"
          ]
        },
        {
          "output_type": "execute_result",
          "data": {
            "text/plain": [
              "0       go jurong point crazy available bugis n great ...\n",
              "1                                ok lar joking wif u oni \n",
              "2       free entry 2 wkly comp win fa cup final tkts 2...\n",
              "3                    u dun say early hor u c already say \n",
              "4                  nah think goes usf lives around though\n",
              "                              ...                        \n",
              "5567     2nd time tried 2 contact u u 750 pound prize ...\n",
              "5568                         ü b going esplanade fr home \n",
              "5569                               pity mood suggestions \n",
              "5570     guy bitching acted like interested buying som...\n",
              "5571                                       rofl true name\n",
              "Name: Message, Length: 5572, dtype: object"
            ]
          },
          "metadata": {},
          "execution_count": 34
        }
      ]
    },
    {
      "cell_type": "code",
      "source": [
        "w_tokenizer = nltk.tokenize.WhitespaceTokenizer()\n",
        "lemmatizer = nltk.stem.WordNetLemmatizer()"
      ],
      "metadata": {
        "id": "x8h_phLGQF7_"
      },
      "execution_count": null,
      "outputs": []
    },
    {
      "cell_type": "code",
      "source": [
        "def lemmatize_text(text):\n",
        "    '''\n",
        "    Лематизирует текст.\n",
        "    Принимает на вход Series\n",
        "    Строковые значения\n",
        "    '''\n",
        "    lemma = [lemmatizer.lemmatize(w) for w in w_tokenizer.tokenize(text)]\n",
        "    lemma_list = ''\n",
        "    for i in lemma:\n",
        "      lemma_list += str(i)+ ' '\n",
        "    return lemma_list"
      ],
      "metadata": {
        "id": "UMfuX761lyZN"
      },
      "execution_count": null,
      "outputs": []
    },
    {
      "cell_type": "code",
      "source": [
        "nltk.download('wordnet')\n",
        "nltk.download('omw-1.4')\n",
        "lemmatized_message = without_message.apply(lemmatize_text)"
      ],
      "metadata": {
        "id": "2UUhcWH8RJfc",
        "colab": {
          "base_uri": "https://localhost:8080/"
        },
        "outputId": "4fdda096-0f4d-492c-e91b-9e36e85dc1aa"
      },
      "execution_count": null,
      "outputs": [
        {
          "output_type": "stream",
          "name": "stderr",
          "text": [
            "[nltk_data] Downloading package wordnet to /root/nltk_data...\n",
            "[nltk_data]   Package wordnet is already up-to-date!\n",
            "[nltk_data] Downloading package omw-1.4 to /root/nltk_data...\n"
          ]
        }
      ]
    },
    {
      "cell_type": "code",
      "source": [
        "lemmatized_message"
      ],
      "metadata": {
        "colab": {
          "base_uri": "https://localhost:8080/"
        },
        "id": "41AYeRWqmObl",
        "outputId": "d5714b16-54b1-4088-ec23-f58fcc7d9973"
      },
      "execution_count": null,
      "outputs": [
        {
          "output_type": "execute_result",
          "data": {
            "text/plain": [
              "0       go jurong point crazy available bugis n great ...\n",
              "1                                ok lar joking wif u oni \n",
              "2       free entry 2 wkly comp win fa cup final tkts 2...\n",
              "3                    u dun say early hor u c already say \n",
              "4                    nah think go usf life around though \n",
              "                              ...                        \n",
              "5567    2nd time tried 2 contact u u 750 pound prize 2...\n",
              "5568                         ü b going esplanade fr home \n",
              "5569                                pity mood suggestion \n",
              "5570    guy bitching acted like interested buying some...\n",
              "5571                                      rofl true name \n",
              "Name: Message, Length: 5572, dtype: object"
            ]
          },
          "metadata": {},
          "execution_count": 40
        }
      ]
    },
    {
      "cell_type": "code",
      "source": [
        "#Преобразуем все сообщения в вектора TF-IDF.\n",
        "from sklearn.feature_extraction.text import TfidfVectorizer\n",
        "\n",
        "tfidf = TfidfVectorizer()\n",
        "tfidf_matrix = tfidf.fit_transform(lemmatized_message)\n",
        "names = tfidf.get_feature_names()\n",
        "tfidf_matrix = pd.DataFrame(tfidf_matrix.toarray(), columns=names)"
      ],
      "metadata": {
        "colab": {
          "base_uri": "https://localhost:8080/"
        },
        "id": "b1vA8rHHTuFO",
        "outputId": "9a4c45e5-3d92-458c-f475-3b9bdf249c7e"
      },
      "execution_count": null,
      "outputs": [
        {
          "output_type": "stream",
          "name": "stderr",
          "text": [
            "/usr/local/lib/python3.7/dist-packages/sklearn/utils/deprecation.py:87: FutureWarning: Function get_feature_names is deprecated; get_feature_names is deprecated in 1.0 and will be removed in 1.2. Please use get_feature_names_out instead.\n",
            "  warnings.warn(msg, category=FutureWarning)\n"
          ]
        }
      ]
    },
    {
      "cell_type": "code",
      "source": [
        "#Разделим данные на тестовые и тренировочные в соотношении 30/70\n",
        "X_train, X_test, y_train, y_test = train_test_split(tfidf_matrix, category_boll, test_size=0.30, random_state=42)"
      ],
      "metadata": {
        "id": "meD3RhLPSYI0"
      },
      "execution_count": null,
      "outputs": []
    },
    {
      "cell_type": "code",
      "source": [
        "lda = LinearDiscriminantAnalysis()"
      ],
      "metadata": {
        "id": "3MME00yVrvNJ"
      },
      "execution_count": null,
      "outputs": []
    },
    {
      "cell_type": "code",
      "source": [
        "# обучаем данные\n",
        "lda.fit(X_train, y_train)"
      ],
      "metadata": {
        "colab": {
          "base_uri": "https://localhost:8080/"
        },
        "id": "bPKqBcLarzWV",
        "outputId": "8d7456be-7a0d-4457-d933-ce1298803a01"
      },
      "execution_count": null,
      "outputs": [
        {
          "output_type": "execute_result",
          "data": {
            "text/plain": [
              "LinearDiscriminantAnalysis()"
            ]
          },
          "metadata": {},
          "execution_count": 44
        }
      ]
    },
    {
      "cell_type": "code",
      "source": [
        "# делаем прогноз на тестовой выборке\n",
        "y_pred = lda.predict(X_test)"
      ],
      "metadata": {
        "id": "s20CAzQ3r3Ok"
      },
      "execution_count": null,
      "outputs": []
    },
    {
      "cell_type": "code",
      "source": [
        "#Получим результаты при помощи confusion_matrix;\n",
        "confusion_matrix(y_test, y_pred)"
      ],
      "metadata": {
        "colab": {
          "base_uri": "https://localhost:8080/"
        },
        "id": "DdLbdx-UsyiF",
        "outputId": "0aea5da1-f53b-423f-a7fc-939b80c23d5f"
      },
      "execution_count": null,
      "outputs": [
        {
          "output_type": "execute_result",
          "data": {
            "text/plain": [
              "array([[ 173,   51],\n",
              "       [   3, 1445]])"
            ]
          },
          "metadata": {},
          "execution_count": 46
        }
      ]
    },
    {
      "cell_type": "code",
      "source": [
        "#вывод:\n",
        "#173 звонка модель классифицировала правильно это спам.\n",
        "#1445 звонков модель классифицировала правильно это полезные звонки.\n",
        "#51 звонок модель ошиблась, классифицировала как полезный хотя оказался спамом\n",
        "#3 звонка модель ошиблась, классифицировала как спам хотя они были полезные"
      ],
      "metadata": {
        "id": "HsOoU6EtKoUE"
      },
      "execution_count": null,
      "outputs": []
    },
    {
      "cell_type": "code",
      "source": [
        "# смотрим разницу факта и прогноза\n",
        "result = pd.DataFrame([y_test, y_pred]).T\n",
        "result.columns= ['test sample', 'model result']\n",
        "result"
      ],
      "metadata": {
        "colab": {
          "base_uri": "https://localhost:8080/",
          "height": 424
        },
        "id": "kwJwgy0_r5wc",
        "outputId": "94c59bc8-ba0d-40ba-b54e-48f9aa8b7db2"
      },
      "execution_count": null,
      "outputs": [
        {
          "output_type": "execute_result",
          "data": {
            "text/plain": [
              "      test sample  model result\n",
              "0               1             1\n",
              "1               1             1\n",
              "2               1             1\n",
              "3               1             1\n",
              "4               1             1\n",
              "...           ...           ...\n",
              "1667            1             1\n",
              "1668            0             0\n",
              "1669            1             1\n",
              "1670            0             0\n",
              "1671            1             1\n",
              "\n",
              "[1672 rows x 2 columns]"
            ],
            "text/html": [
              "\n",
              "  <div id=\"df-798dcdf0-26a7-4b8f-951b-ab558cc96c03\">\n",
              "    <div class=\"colab-df-container\">\n",
              "      <div>\n",
              "<style scoped>\n",
              "    .dataframe tbody tr th:only-of-type {\n",
              "        vertical-align: middle;\n",
              "    }\n",
              "\n",
              "    .dataframe tbody tr th {\n",
              "        vertical-align: top;\n",
              "    }\n",
              "\n",
              "    .dataframe thead th {\n",
              "        text-align: right;\n",
              "    }\n",
              "</style>\n",
              "<table border=\"1\" class=\"dataframe\">\n",
              "  <thead>\n",
              "    <tr style=\"text-align: right;\">\n",
              "      <th></th>\n",
              "      <th>test sample</th>\n",
              "      <th>model result</th>\n",
              "    </tr>\n",
              "  </thead>\n",
              "  <tbody>\n",
              "    <tr>\n",
              "      <th>0</th>\n",
              "      <td>1</td>\n",
              "      <td>1</td>\n",
              "    </tr>\n",
              "    <tr>\n",
              "      <th>1</th>\n",
              "      <td>1</td>\n",
              "      <td>1</td>\n",
              "    </tr>\n",
              "    <tr>\n",
              "      <th>2</th>\n",
              "      <td>1</td>\n",
              "      <td>1</td>\n",
              "    </tr>\n",
              "    <tr>\n",
              "      <th>3</th>\n",
              "      <td>1</td>\n",
              "      <td>1</td>\n",
              "    </tr>\n",
              "    <tr>\n",
              "      <th>4</th>\n",
              "      <td>1</td>\n",
              "      <td>1</td>\n",
              "    </tr>\n",
              "    <tr>\n",
              "      <th>...</th>\n",
              "      <td>...</td>\n",
              "      <td>...</td>\n",
              "    </tr>\n",
              "    <tr>\n",
              "      <th>1667</th>\n",
              "      <td>1</td>\n",
              "      <td>1</td>\n",
              "    </tr>\n",
              "    <tr>\n",
              "      <th>1668</th>\n",
              "      <td>0</td>\n",
              "      <td>0</td>\n",
              "    </tr>\n",
              "    <tr>\n",
              "      <th>1669</th>\n",
              "      <td>1</td>\n",
              "      <td>1</td>\n",
              "    </tr>\n",
              "    <tr>\n",
              "      <th>1670</th>\n",
              "      <td>0</td>\n",
              "      <td>0</td>\n",
              "    </tr>\n",
              "    <tr>\n",
              "      <th>1671</th>\n",
              "      <td>1</td>\n",
              "      <td>1</td>\n",
              "    </tr>\n",
              "  </tbody>\n",
              "</table>\n",
              "<p>1672 rows × 2 columns</p>\n",
              "</div>\n",
              "      <button class=\"colab-df-convert\" onclick=\"convertToInteractive('df-798dcdf0-26a7-4b8f-951b-ab558cc96c03')\"\n",
              "              title=\"Convert this dataframe to an interactive table.\"\n",
              "              style=\"display:none;\">\n",
              "        \n",
              "  <svg xmlns=\"http://www.w3.org/2000/svg\" height=\"24px\"viewBox=\"0 0 24 24\"\n",
              "       width=\"24px\">\n",
              "    <path d=\"M0 0h24v24H0V0z\" fill=\"none\"/>\n",
              "    <path d=\"M18.56 5.44l.94 2.06.94-2.06 2.06-.94-2.06-.94-.94-2.06-.94 2.06-2.06.94zm-11 1L8.5 8.5l.94-2.06 2.06-.94-2.06-.94L8.5 2.5l-.94 2.06-2.06.94zm10 10l.94 2.06.94-2.06 2.06-.94-2.06-.94-.94-2.06-.94 2.06-2.06.94z\"/><path d=\"M17.41 7.96l-1.37-1.37c-.4-.4-.92-.59-1.43-.59-.52 0-1.04.2-1.43.59L10.3 9.45l-7.72 7.72c-.78.78-.78 2.05 0 2.83L4 21.41c.39.39.9.59 1.41.59.51 0 1.02-.2 1.41-.59l7.78-7.78 2.81-2.81c.8-.78.8-2.07 0-2.86zM5.41 20L4 18.59l7.72-7.72 1.47 1.35L5.41 20z\"/>\n",
              "  </svg>\n",
              "      </button>\n",
              "      \n",
              "  <style>\n",
              "    .colab-df-container {\n",
              "      display:flex;\n",
              "      flex-wrap:wrap;\n",
              "      gap: 12px;\n",
              "    }\n",
              "\n",
              "    .colab-df-convert {\n",
              "      background-color: #E8F0FE;\n",
              "      border: none;\n",
              "      border-radius: 50%;\n",
              "      cursor: pointer;\n",
              "      display: none;\n",
              "      fill: #1967D2;\n",
              "      height: 32px;\n",
              "      padding: 0 0 0 0;\n",
              "      width: 32px;\n",
              "    }\n",
              "\n",
              "    .colab-df-convert:hover {\n",
              "      background-color: #E2EBFA;\n",
              "      box-shadow: 0px 1px 2px rgba(60, 64, 67, 0.3), 0px 1px 3px 1px rgba(60, 64, 67, 0.15);\n",
              "      fill: #174EA6;\n",
              "    }\n",
              "\n",
              "    [theme=dark] .colab-df-convert {\n",
              "      background-color: #3B4455;\n",
              "      fill: #D2E3FC;\n",
              "    }\n",
              "\n",
              "    [theme=dark] .colab-df-convert:hover {\n",
              "      background-color: #434B5C;\n",
              "      box-shadow: 0px 1px 3px 1px rgba(0, 0, 0, 0.15);\n",
              "      filter: drop-shadow(0px 1px 2px rgba(0, 0, 0, 0.3));\n",
              "      fill: #FFFFFF;\n",
              "    }\n",
              "  </style>\n",
              "\n",
              "      <script>\n",
              "        const buttonEl =\n",
              "          document.querySelector('#df-798dcdf0-26a7-4b8f-951b-ab558cc96c03 button.colab-df-convert');\n",
              "        buttonEl.style.display =\n",
              "          google.colab.kernel.accessAllowed ? 'block' : 'none';\n",
              "\n",
              "        async function convertToInteractive(key) {\n",
              "          const element = document.querySelector('#df-798dcdf0-26a7-4b8f-951b-ab558cc96c03');\n",
              "          const dataTable =\n",
              "            await google.colab.kernel.invokeFunction('convertToInteractive',\n",
              "                                                     [key], {});\n",
              "          if (!dataTable) return;\n",
              "\n",
              "          const docLinkHtml = 'Like what you see? Visit the ' +\n",
              "            '<a target=\"_blank\" href=https://colab.research.google.com/notebooks/data_table.ipynb>data table notebook</a>'\n",
              "            + ' to learn more about interactive tables.';\n",
              "          element.innerHTML = '';\n",
              "          dataTable['output_type'] = 'display_data';\n",
              "          await google.colab.output.renderOutput(dataTable, element);\n",
              "          const docLink = document.createElement('div');\n",
              "          docLink.innerHTML = docLinkHtml;\n",
              "          element.appendChild(docLink);\n",
              "        }\n",
              "      </script>\n",
              "    </div>\n",
              "  </div>\n",
              "  "
            ]
          },
          "metadata": {},
          "execution_count": 48
        }
      ]
    },
    {
      "cell_type": "code",
      "source": [
        "#Построим датафрейм, который будет содержать все исходные тексты сообщений,\n",
        "#классифицированные неправильно (с указанием фактического и предсказанного)\n",
        "model_error = copy.copy(X_test)\n",
        "model_error['Message'] = df_text['Message']\n",
        "model_error['Category'] = df_text['Category']\n",
        "model_error = model_error.reset_index()\n",
        "model_error['model result'] = result['model result']\n",
        "model_error = model_error[['Message',  'model result', 'Category']]\n",
        "model_error['model result'] = model_error['model result'].replace({1 :'ham',  0:'spam'})\n",
        "model_error = model_error[model_error['Category'] != model_error['model result']]"
      ],
      "metadata": {
        "id": "9iSZg3Yx265r"
      },
      "execution_count": null,
      "outputs": []
    },
    {
      "cell_type": "code",
      "source": [
        "model_error"
      ],
      "metadata": {
        "colab": {
          "base_uri": "https://localhost:8080/",
          "height": 1000
        },
        "id": "pBigNBeV8wgo",
        "outputId": "f18e4711-6bed-4595-948d-63582644b471"
      },
      "execution_count": null,
      "outputs": [
        {
          "output_type": "execute_result",
          "data": {
            "text/plain": [
              "                                                Message model result Category\n",
              "22    Err... Cud do. I'm going to  at 8pm. I haven't...         spam      ham\n",
              "40    Reminder: You have not downloaded the content ...          ham     spam\n",
              "47    Guess what! Somebody you know secretly fancies...          ham     spam\n",
              "74    Oh my god! I've found your number again! I'm s...          ham     spam\n",
              "84    Your next amazing xxx PICSFREE1 video will be ...          ham     spam\n",
              "160   Babe: U want me dont u baby! Im nasty and have...          ham     spam\n",
              "166   I want some cock! My hubby's away, I need a re...          ham     spam\n",
              "194   Hello. They are going to the village pub at 8 ...         spam      ham\n",
              "234   Hello darling how are you today? I would love ...          ham     spam\n",
              "260   Guess what! Somebody you know secretly fancies...          ham     spam\n",
              "272   Do you realize that in about 40 years, we'll h...          ham     spam\n",
              "324   Bloomberg -Message center +447797706009 Why wa...          ham     spam\n",
              "344   A £400 XMAS REWARD IS WAITING FOR YOU! Our com...          ham     spam\n",
              "393   For your chance to WIN a FREE Bluetooth Headse...          ham     spam\n",
              "408   tddnewsletter@emc1.co.uk (More games from TheD...          ham     spam\n",
              "426   Urgent Ur £500 guaranteed award is still uncla...          ham     spam\n",
              "461   For taking part in our mobile survey yesterday...          ham     spam\n",
              "489   This is the 2nd time we have tried to contact ...          ham     spam\n",
              "518   Will u meet ur dream partner soon? Is ur caree...          ham     spam\n",
              "530   A link to your picture has been sent. You can ...          ham     spam\n",
              "541   22 days to kick off! For Euro2004 U will be ke...          ham     spam\n",
              "550   Bloomberg -Message center +447797706009 Why wa...          ham     spam\n",
              "561   Talk sexy!! Make new friends or fall in love i...          ham     spam\n",
              "576   URGENT! This is the 2nd attempt to contact U!U...          ham     spam\n",
              "611   Dear U've been invited to XCHAT. This is our f...          ham     spam\n",
              "635   Sorry I missed your call let's talk when you h...          ham     spam\n",
              "643   Hack Chat. Get backdoor entry into 121 chat ro...          ham     spam\n",
              "678   Mobile Club: Choose any of the top quality ite...          ham     spam\n",
              "681   Married local women looking for discreet actio...          ham     spam\n",
              "731   A £400 XMAS REWARD IS WAITING FOR YOU! Our com...          ham     spam\n",
              "773   Am new 2 club & dont fink we met yet Will B gr...          ham     spam\n",
              "795   Burger King - Wanna play footy at a top stadiu...          ham     spam\n",
              "807                    Yar but they say got some error.         spam      ham\n",
              "927        PRIVATE! Your 2003 Account Statement for 078          ham     spam\n",
              "1002  Bears Pic Nick, and Tom, Pete and ... Dick. In...          ham     spam\n",
              "1081  Email AlertFrom: Jeri StewartSize: 2KBSubject:...          ham     spam\n",
              "1107   You have 1 new message. Please call 08712400200.          ham     spam\n",
              "1132  CALL 09090900040 & LISTEN TO EXTREME DIRTY LIV...          ham     spam\n",
              "1175                           FROM 88066 LOST £12 HELP          ham     spam\n",
              "1228  Text PASS to 69669 to collect your polyphonic ...          ham     spam\n",
              "1269  Free Msg: get Gnarls Barkleys \"Crazy\" ringtone...          ham     spam\n",
              "1279  <Forwarded from 448712404000>Please CALL 08712...          ham     spam\n",
              "1294  Thanks for the Vote. Now sing along with the s...          ham     spam\n",
              "1302  Did you hear about the new \"Divorce Barbie\"? I...          ham     spam\n",
              "1329  The current leading bid is 151. To pause this ...          ham     spam\n",
              "1362  Summers finally here! Fancy a chat or flirt wi...          ham     spam\n",
              "1383  LookAtMe!: Thanks for your purchase of a video...          ham     spam\n",
              "1407  Boltblue tones for 150p Reply POLY# or MONO# e...          ham     spam\n",
              "1475  Hungry gay guys feeling hungry and up 4 it, no...          ham     spam\n",
              "1495  cmon babe, make me horny, *turn* me on! Txt me...          ham     spam\n",
              "1501  Here is your discount code RP176781. To stop f...          ham     spam\n",
              "1509  Are you unique enough? Find out from 30th Augu...          ham     spam\n",
              "1572  Free msg: Single? Find a partner in your area!...          ham     spam\n",
              "1586  SMS. ac Blind Date 4U!: Rodds1 is 21/m from Ab...          ham     spam"
            ],
            "text/html": [
              "\n",
              "  <div id=\"df-10f36db9-6390-4937-b574-aedf57aa0c4c\">\n",
              "    <div class=\"colab-df-container\">\n",
              "      <div>\n",
              "<style scoped>\n",
              "    .dataframe tbody tr th:only-of-type {\n",
              "        vertical-align: middle;\n",
              "    }\n",
              "\n",
              "    .dataframe tbody tr th {\n",
              "        vertical-align: top;\n",
              "    }\n",
              "\n",
              "    .dataframe thead th {\n",
              "        text-align: right;\n",
              "    }\n",
              "</style>\n",
              "<table border=\"1\" class=\"dataframe\">\n",
              "  <thead>\n",
              "    <tr style=\"text-align: right;\">\n",
              "      <th></th>\n",
              "      <th>Message</th>\n",
              "      <th>model result</th>\n",
              "      <th>Category</th>\n",
              "    </tr>\n",
              "  </thead>\n",
              "  <tbody>\n",
              "    <tr>\n",
              "      <th>22</th>\n",
              "      <td>Err... Cud do. I'm going to  at 8pm. I haven't...</td>\n",
              "      <td>spam</td>\n",
              "      <td>ham</td>\n",
              "    </tr>\n",
              "    <tr>\n",
              "      <th>40</th>\n",
              "      <td>Reminder: You have not downloaded the content ...</td>\n",
              "      <td>ham</td>\n",
              "      <td>spam</td>\n",
              "    </tr>\n",
              "    <tr>\n",
              "      <th>47</th>\n",
              "      <td>Guess what! Somebody you know secretly fancies...</td>\n",
              "      <td>ham</td>\n",
              "      <td>spam</td>\n",
              "    </tr>\n",
              "    <tr>\n",
              "      <th>74</th>\n",
              "      <td>Oh my god! I've found your number again! I'm s...</td>\n",
              "      <td>ham</td>\n",
              "      <td>spam</td>\n",
              "    </tr>\n",
              "    <tr>\n",
              "      <th>84</th>\n",
              "      <td>Your next amazing xxx PICSFREE1 video will be ...</td>\n",
              "      <td>ham</td>\n",
              "      <td>spam</td>\n",
              "    </tr>\n",
              "    <tr>\n",
              "      <th>160</th>\n",
              "      <td>Babe: U want me dont u baby! Im nasty and have...</td>\n",
              "      <td>ham</td>\n",
              "      <td>spam</td>\n",
              "    </tr>\n",
              "    <tr>\n",
              "      <th>166</th>\n",
              "      <td>I want some cock! My hubby's away, I need a re...</td>\n",
              "      <td>ham</td>\n",
              "      <td>spam</td>\n",
              "    </tr>\n",
              "    <tr>\n",
              "      <th>194</th>\n",
              "      <td>Hello. They are going to the village pub at 8 ...</td>\n",
              "      <td>spam</td>\n",
              "      <td>ham</td>\n",
              "    </tr>\n",
              "    <tr>\n",
              "      <th>234</th>\n",
              "      <td>Hello darling how are you today? I would love ...</td>\n",
              "      <td>ham</td>\n",
              "      <td>spam</td>\n",
              "    </tr>\n",
              "    <tr>\n",
              "      <th>260</th>\n",
              "      <td>Guess what! Somebody you know secretly fancies...</td>\n",
              "      <td>ham</td>\n",
              "      <td>spam</td>\n",
              "    </tr>\n",
              "    <tr>\n",
              "      <th>272</th>\n",
              "      <td>Do you realize that in about 40 years, we'll h...</td>\n",
              "      <td>ham</td>\n",
              "      <td>spam</td>\n",
              "    </tr>\n",
              "    <tr>\n",
              "      <th>324</th>\n",
              "      <td>Bloomberg -Message center +447797706009 Why wa...</td>\n",
              "      <td>ham</td>\n",
              "      <td>spam</td>\n",
              "    </tr>\n",
              "    <tr>\n",
              "      <th>344</th>\n",
              "      <td>A £400 XMAS REWARD IS WAITING FOR YOU! Our com...</td>\n",
              "      <td>ham</td>\n",
              "      <td>spam</td>\n",
              "    </tr>\n",
              "    <tr>\n",
              "      <th>393</th>\n",
              "      <td>For your chance to WIN a FREE Bluetooth Headse...</td>\n",
              "      <td>ham</td>\n",
              "      <td>spam</td>\n",
              "    </tr>\n",
              "    <tr>\n",
              "      <th>408</th>\n",
              "      <td>tddnewsletter@emc1.co.uk (More games from TheD...</td>\n",
              "      <td>ham</td>\n",
              "      <td>spam</td>\n",
              "    </tr>\n",
              "    <tr>\n",
              "      <th>426</th>\n",
              "      <td>Urgent Ur £500 guaranteed award is still uncla...</td>\n",
              "      <td>ham</td>\n",
              "      <td>spam</td>\n",
              "    </tr>\n",
              "    <tr>\n",
              "      <th>461</th>\n",
              "      <td>For taking part in our mobile survey yesterday...</td>\n",
              "      <td>ham</td>\n",
              "      <td>spam</td>\n",
              "    </tr>\n",
              "    <tr>\n",
              "      <th>489</th>\n",
              "      <td>This is the 2nd time we have tried to contact ...</td>\n",
              "      <td>ham</td>\n",
              "      <td>spam</td>\n",
              "    </tr>\n",
              "    <tr>\n",
              "      <th>518</th>\n",
              "      <td>Will u meet ur dream partner soon? Is ur caree...</td>\n",
              "      <td>ham</td>\n",
              "      <td>spam</td>\n",
              "    </tr>\n",
              "    <tr>\n",
              "      <th>530</th>\n",
              "      <td>A link to your picture has been sent. You can ...</td>\n",
              "      <td>ham</td>\n",
              "      <td>spam</td>\n",
              "    </tr>\n",
              "    <tr>\n",
              "      <th>541</th>\n",
              "      <td>22 days to kick off! For Euro2004 U will be ke...</td>\n",
              "      <td>ham</td>\n",
              "      <td>spam</td>\n",
              "    </tr>\n",
              "    <tr>\n",
              "      <th>550</th>\n",
              "      <td>Bloomberg -Message center +447797706009 Why wa...</td>\n",
              "      <td>ham</td>\n",
              "      <td>spam</td>\n",
              "    </tr>\n",
              "    <tr>\n",
              "      <th>561</th>\n",
              "      <td>Talk sexy!! Make new friends or fall in love i...</td>\n",
              "      <td>ham</td>\n",
              "      <td>spam</td>\n",
              "    </tr>\n",
              "    <tr>\n",
              "      <th>576</th>\n",
              "      <td>URGENT! This is the 2nd attempt to contact U!U...</td>\n",
              "      <td>ham</td>\n",
              "      <td>spam</td>\n",
              "    </tr>\n",
              "    <tr>\n",
              "      <th>611</th>\n",
              "      <td>Dear U've been invited to XCHAT. This is our f...</td>\n",
              "      <td>ham</td>\n",
              "      <td>spam</td>\n",
              "    </tr>\n",
              "    <tr>\n",
              "      <th>635</th>\n",
              "      <td>Sorry I missed your call let's talk when you h...</td>\n",
              "      <td>ham</td>\n",
              "      <td>spam</td>\n",
              "    </tr>\n",
              "    <tr>\n",
              "      <th>643</th>\n",
              "      <td>Hack Chat. Get backdoor entry into 121 chat ro...</td>\n",
              "      <td>ham</td>\n",
              "      <td>spam</td>\n",
              "    </tr>\n",
              "    <tr>\n",
              "      <th>678</th>\n",
              "      <td>Mobile Club: Choose any of the top quality ite...</td>\n",
              "      <td>ham</td>\n",
              "      <td>spam</td>\n",
              "    </tr>\n",
              "    <tr>\n",
              "      <th>681</th>\n",
              "      <td>Married local women looking for discreet actio...</td>\n",
              "      <td>ham</td>\n",
              "      <td>spam</td>\n",
              "    </tr>\n",
              "    <tr>\n",
              "      <th>731</th>\n",
              "      <td>A £400 XMAS REWARD IS WAITING FOR YOU! Our com...</td>\n",
              "      <td>ham</td>\n",
              "      <td>spam</td>\n",
              "    </tr>\n",
              "    <tr>\n",
              "      <th>773</th>\n",
              "      <td>Am new 2 club &amp; dont fink we met yet Will B gr...</td>\n",
              "      <td>ham</td>\n",
              "      <td>spam</td>\n",
              "    </tr>\n",
              "    <tr>\n",
              "      <th>795</th>\n",
              "      <td>Burger King - Wanna play footy at a top stadiu...</td>\n",
              "      <td>ham</td>\n",
              "      <td>spam</td>\n",
              "    </tr>\n",
              "    <tr>\n",
              "      <th>807</th>\n",
              "      <td>Yar but they say got some error.</td>\n",
              "      <td>spam</td>\n",
              "      <td>ham</td>\n",
              "    </tr>\n",
              "    <tr>\n",
              "      <th>927</th>\n",
              "      <td>PRIVATE! Your 2003 Account Statement for 078</td>\n",
              "      <td>ham</td>\n",
              "      <td>spam</td>\n",
              "    </tr>\n",
              "    <tr>\n",
              "      <th>1002</th>\n",
              "      <td>Bears Pic Nick, and Tom, Pete and ... Dick. In...</td>\n",
              "      <td>ham</td>\n",
              "      <td>spam</td>\n",
              "    </tr>\n",
              "    <tr>\n",
              "      <th>1081</th>\n",
              "      <td>Email AlertFrom: Jeri StewartSize: 2KBSubject:...</td>\n",
              "      <td>ham</td>\n",
              "      <td>spam</td>\n",
              "    </tr>\n",
              "    <tr>\n",
              "      <th>1107</th>\n",
              "      <td>You have 1 new message. Please call 08712400200.</td>\n",
              "      <td>ham</td>\n",
              "      <td>spam</td>\n",
              "    </tr>\n",
              "    <tr>\n",
              "      <th>1132</th>\n",
              "      <td>CALL 09090900040 &amp; LISTEN TO EXTREME DIRTY LIV...</td>\n",
              "      <td>ham</td>\n",
              "      <td>spam</td>\n",
              "    </tr>\n",
              "    <tr>\n",
              "      <th>1175</th>\n",
              "      <td>FROM 88066 LOST £12 HELP</td>\n",
              "      <td>ham</td>\n",
              "      <td>spam</td>\n",
              "    </tr>\n",
              "    <tr>\n",
              "      <th>1228</th>\n",
              "      <td>Text PASS to 69669 to collect your polyphonic ...</td>\n",
              "      <td>ham</td>\n",
              "      <td>spam</td>\n",
              "    </tr>\n",
              "    <tr>\n",
              "      <th>1269</th>\n",
              "      <td>Free Msg: get Gnarls Barkleys \"Crazy\" ringtone...</td>\n",
              "      <td>ham</td>\n",
              "      <td>spam</td>\n",
              "    </tr>\n",
              "    <tr>\n",
              "      <th>1279</th>\n",
              "      <td>&lt;Forwarded from 448712404000&gt;Please CALL 08712...</td>\n",
              "      <td>ham</td>\n",
              "      <td>spam</td>\n",
              "    </tr>\n",
              "    <tr>\n",
              "      <th>1294</th>\n",
              "      <td>Thanks for the Vote. Now sing along with the s...</td>\n",
              "      <td>ham</td>\n",
              "      <td>spam</td>\n",
              "    </tr>\n",
              "    <tr>\n",
              "      <th>1302</th>\n",
              "      <td>Did you hear about the new \"Divorce Barbie\"? I...</td>\n",
              "      <td>ham</td>\n",
              "      <td>spam</td>\n",
              "    </tr>\n",
              "    <tr>\n",
              "      <th>1329</th>\n",
              "      <td>The current leading bid is 151. To pause this ...</td>\n",
              "      <td>ham</td>\n",
              "      <td>spam</td>\n",
              "    </tr>\n",
              "    <tr>\n",
              "      <th>1362</th>\n",
              "      <td>Summers finally here! Fancy a chat or flirt wi...</td>\n",
              "      <td>ham</td>\n",
              "      <td>spam</td>\n",
              "    </tr>\n",
              "    <tr>\n",
              "      <th>1383</th>\n",
              "      <td>LookAtMe!: Thanks for your purchase of a video...</td>\n",
              "      <td>ham</td>\n",
              "      <td>spam</td>\n",
              "    </tr>\n",
              "    <tr>\n",
              "      <th>1407</th>\n",
              "      <td>Boltblue tones for 150p Reply POLY# or MONO# e...</td>\n",
              "      <td>ham</td>\n",
              "      <td>spam</td>\n",
              "    </tr>\n",
              "    <tr>\n",
              "      <th>1475</th>\n",
              "      <td>Hungry gay guys feeling hungry and up 4 it, no...</td>\n",
              "      <td>ham</td>\n",
              "      <td>spam</td>\n",
              "    </tr>\n",
              "    <tr>\n",
              "      <th>1495</th>\n",
              "      <td>cmon babe, make me horny, *turn* me on! Txt me...</td>\n",
              "      <td>ham</td>\n",
              "      <td>spam</td>\n",
              "    </tr>\n",
              "    <tr>\n",
              "      <th>1501</th>\n",
              "      <td>Here is your discount code RP176781. To stop f...</td>\n",
              "      <td>ham</td>\n",
              "      <td>spam</td>\n",
              "    </tr>\n",
              "    <tr>\n",
              "      <th>1509</th>\n",
              "      <td>Are you unique enough? Find out from 30th Augu...</td>\n",
              "      <td>ham</td>\n",
              "      <td>spam</td>\n",
              "    </tr>\n",
              "    <tr>\n",
              "      <th>1572</th>\n",
              "      <td>Free msg: Single? Find a partner in your area!...</td>\n",
              "      <td>ham</td>\n",
              "      <td>spam</td>\n",
              "    </tr>\n",
              "    <tr>\n",
              "      <th>1586</th>\n",
              "      <td>SMS. ac Blind Date 4U!: Rodds1 is 21/m from Ab...</td>\n",
              "      <td>ham</td>\n",
              "      <td>spam</td>\n",
              "    </tr>\n",
              "  </tbody>\n",
              "</table>\n",
              "</div>\n",
              "      <button class=\"colab-df-convert\" onclick=\"convertToInteractive('df-10f36db9-6390-4937-b574-aedf57aa0c4c')\"\n",
              "              title=\"Convert this dataframe to an interactive table.\"\n",
              "              style=\"display:none;\">\n",
              "        \n",
              "  <svg xmlns=\"http://www.w3.org/2000/svg\" height=\"24px\"viewBox=\"0 0 24 24\"\n",
              "       width=\"24px\">\n",
              "    <path d=\"M0 0h24v24H0V0z\" fill=\"none\"/>\n",
              "    <path d=\"M18.56 5.44l.94 2.06.94-2.06 2.06-.94-2.06-.94-.94-2.06-.94 2.06-2.06.94zm-11 1L8.5 8.5l.94-2.06 2.06-.94-2.06-.94L8.5 2.5l-.94 2.06-2.06.94zm10 10l.94 2.06.94-2.06 2.06-.94-2.06-.94-.94-2.06-.94 2.06-2.06.94z\"/><path d=\"M17.41 7.96l-1.37-1.37c-.4-.4-.92-.59-1.43-.59-.52 0-1.04.2-1.43.59L10.3 9.45l-7.72 7.72c-.78.78-.78 2.05 0 2.83L4 21.41c.39.39.9.59 1.41.59.51 0 1.02-.2 1.41-.59l7.78-7.78 2.81-2.81c.8-.78.8-2.07 0-2.86zM5.41 20L4 18.59l7.72-7.72 1.47 1.35L5.41 20z\"/>\n",
              "  </svg>\n",
              "      </button>\n",
              "      \n",
              "  <style>\n",
              "    .colab-df-container {\n",
              "      display:flex;\n",
              "      flex-wrap:wrap;\n",
              "      gap: 12px;\n",
              "    }\n",
              "\n",
              "    .colab-df-convert {\n",
              "      background-color: #E8F0FE;\n",
              "      border: none;\n",
              "      border-radius: 50%;\n",
              "      cursor: pointer;\n",
              "      display: none;\n",
              "      fill: #1967D2;\n",
              "      height: 32px;\n",
              "      padding: 0 0 0 0;\n",
              "      width: 32px;\n",
              "    }\n",
              "\n",
              "    .colab-df-convert:hover {\n",
              "      background-color: #E2EBFA;\n",
              "      box-shadow: 0px 1px 2px rgba(60, 64, 67, 0.3), 0px 1px 3px 1px rgba(60, 64, 67, 0.15);\n",
              "      fill: #174EA6;\n",
              "    }\n",
              "\n",
              "    [theme=dark] .colab-df-convert {\n",
              "      background-color: #3B4455;\n",
              "      fill: #D2E3FC;\n",
              "    }\n",
              "\n",
              "    [theme=dark] .colab-df-convert:hover {\n",
              "      background-color: #434B5C;\n",
              "      box-shadow: 0px 1px 3px 1px rgba(0, 0, 0, 0.15);\n",
              "      filter: drop-shadow(0px 1px 2px rgba(0, 0, 0, 0.3));\n",
              "      fill: #FFFFFF;\n",
              "    }\n",
              "  </style>\n",
              "\n",
              "      <script>\n",
              "        const buttonEl =\n",
              "          document.querySelector('#df-10f36db9-6390-4937-b574-aedf57aa0c4c button.colab-df-convert');\n",
              "        buttonEl.style.display =\n",
              "          google.colab.kernel.accessAllowed ? 'block' : 'none';\n",
              "\n",
              "        async function convertToInteractive(key) {\n",
              "          const element = document.querySelector('#df-10f36db9-6390-4937-b574-aedf57aa0c4c');\n",
              "          const dataTable =\n",
              "            await google.colab.kernel.invokeFunction('convertToInteractive',\n",
              "                                                     [key], {});\n",
              "          if (!dataTable) return;\n",
              "\n",
              "          const docLinkHtml = 'Like what you see? Visit the ' +\n",
              "            '<a target=\"_blank\" href=https://colab.research.google.com/notebooks/data_table.ipynb>data table notebook</a>'\n",
              "            + ' to learn more about interactive tables.';\n",
              "          element.innerHTML = '';\n",
              "          dataTable['output_type'] = 'display_data';\n",
              "          await google.colab.output.renderOutput(dataTable, element);\n",
              "          const docLink = document.createElement('div');\n",
              "          docLink.innerHTML = docLinkHtml;\n",
              "          element.appendChild(docLink);\n",
              "        }\n",
              "      </script>\n",
              "    </div>\n",
              "  </div>\n",
              "  "
            ]
          },
          "metadata": {},
          "execution_count": 50
        }
      ]
    }
  ]
}