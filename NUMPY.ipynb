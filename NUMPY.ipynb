{
  "nbformat": 4,
  "nbformat_minor": 0,
  "metadata": {
    "colab": {
      "provenance": [],
      "collapsed_sections": [],
      "authorship_tag": "ABX9TyMv3I9P9xlyGQKQHccasXUS"
    },
    "kernelspec": {
      "name": "python3",
      "display_name": "Python 3"
    },
    "language_info": {
      "name": "python"
    }
  },
  "cells": [
    {
      "cell_type": "code",
      "execution_count": null,
      "metadata": {
        "id": "nDHnHiDZu2Lu"
      },
      "outputs": [],
      "source": [
        "import numpy as np\n"
      ]
    },
    {
      "cell_type": "markdown",
      "source": [
        "Имеется матрица покупок в интернет-магазине. Столбец А - ID пользователя. Остальные столбцы - количество покупок категорий товаров этим пользователем:"
      ],
      "metadata": {
        "id": "w3z50m0TTyYA"
      }
    },
    {
      "cell_type": "markdown",
      "source": [
        "Матрица в виде numpy array"
      ],
      "metadata": {
        "id": "u4T0e8ydUFxo"
      }
    },
    {
      "cell_type": "code",
      "source": [
        "users_stats = np.array(\n",
        "    [\n",
        "        [2, 1, 0, 0, 0, 0],\n",
        "        [1, 1, 2, 1, 0, 0],\n",
        "        [2, 0, 1, 0, 0, 0],\n",
        "        [1, 1, 2, 1, 0, 1],\n",
        "        [0, 0, 1, 2, 0, 0],\n",
        "        [0, 0, 0, 0, 0, 5],\n",
        "        [1, 0, 0, 0, 0, 0],\n",
        "        [0, 1, 1, 0, 0, 0],\n",
        "        [0, 0, 0, 1, 1, 3],\n",
        "        [1, 0, 0, 2, 1, 4]\n",
        "    ], \n",
        "    np.int32\n",
        ")"
      ],
      "metadata": {
        "id": "rTqJ9FOs7fTS"
      },
      "execution_count": null,
      "outputs": []
    },
    {
      "cell_type": "markdown",
      "source": [
        "На сайт заходит очередной посетитель, о покупках которого известно следующее:"
      ],
      "metadata": {
        "id": "0-mr8RhT7krm"
      }
    },
    {
      "cell_type": "code",
      "source": [
        "next_user_stats = np.array([0, 1, 2, 0, 0, 0])"
      ],
      "metadata": {
        "id": "3vrzFIM47qO7"
      },
      "execution_count": null,
      "outputs": []
    },
    {
      "cell_type": "markdown",
      "source": [
        "Найдите самого похожего пользователя. Т. е. посчитайте косинусное сходство между этим пользователем и всеми пользователями из массива user_stats"
      ],
      "metadata": {
        "id": "DAE_rJ_P7urV"
      }
    },
    {
      "cell_type": "code",
      "source": [
        "list_stats = []\n",
        "for old_user in users_stats:\n",
        "  old_user_Length = np.linalg.norm(old_user)\n",
        "  next_user_Length = np.linalg.norm(next_user_stats)\n",
        "  list_stats.append(np.dot(old_user, next_user_stats) / (next_user_Length * old_user_Length))\n",
        "print(f'Самый похожий пользователь под номером {list_stats.index(max(list_stats))+1} (User ID)') "
      ],
      "metadata": {
        "colab": {
          "base_uri": "https://localhost:8080/"
        },
        "id": "Wdis9UAT-Ka9",
        "outputId": "805a13f5-4e04-426d-e372-003146c47b5d"
      },
      "execution_count": null,
      "outputs": [
        {
          "output_type": "stream",
          "name": "stdout",
          "text": [
            "Самый похожий пользователь под номером 8 (User ID)\n"
          ]
        }
      ]
    },
    {
      "cell_type": "code",
      "source": [
        "list_cosine = []\n",
        "for id, old_user in enumerate(users_stats, start=1):\n",
        "  old_user_Length = np.linalg.norm(old_user)\n",
        "  next_user_Length = np.linalg.norm(next_user_stats)\n",
        "  list_cosine.append(np.dot(old_user, next_user_stats) / (next_user_Length * old_user_Length))\n",
        "print(f'Самый похожий пользователь под номером {list_cosine.index(max(list_cosine))+1} (User ID)')"
      ],
      "metadata": {
        "colab": {
          "base_uri": "https://localhost:8080/"
        },
        "id": "wlvNQsQsV4IG",
        "outputId": "fb8cc649-d3ca-442c-9c3c-0838fc25aaad"
      },
      "execution_count": null,
      "outputs": [
        {
          "output_type": "stream",
          "name": "stdout",
          "text": [
            "Самый похожий пользователь под номером 8 (User ID)\n"
          ]
        }
      ]
    },
    {
      "cell_type": "code",
      "source": [
        "# Сделал более универсально т.к. список интернет магазина может содержать миллионны строк, а создавать еще список\n",
        "# по памяти может быть очень накладно. Так же если учитывать дальнейшее усовершенствование кода то данные\n",
        "# c покупателями возможно придется брать из лога на сервере построчно.\n",
        "# Код получисля более сложный и можно еще выделить функцию при доработки кода.\n",
        "# Код работает корректно при условии что ID пользователи пронумерованы от 1, 2, 3, 4 и т.д. по возрастанию.\n",
        "# и ID пользователя = номеру строки \n",
        "cosine_users = 0\n",
        "similar_cosine_user = 0\n",
        "similar_id_user = 0\n",
        "for id, old_user in enumerate(users_stats, start=1):\n",
        "  old_user_Length = np.linalg.norm(old_user)\n",
        "  next_user_Length = np.linalg.norm(next_user_stats)\n",
        "  cosine_users = np.dot(old_user, next_user_stats) / (next_user_Length * old_user_Length)\n",
        "\n",
        "  if similar_cosine_user < cosine_users:\n",
        "    similar_id_user = id\n",
        "print(f'Самый похожий пользователь под номером {similar_id_user} (User ID)')"
      ],
      "metadata": {
        "colab": {
          "base_uri": "https://localhost:8080/"
        },
        "id": "Q7Y2BTpHW8q0",
        "outputId": "6b985fc4-be1b-4e55-bba1-95fa8fec25c0"
      },
      "execution_count": null,
      "outputs": [
        {
          "output_type": "stream",
          "name": "stdout",
          "text": [
            "Самый похожий пользователь под номером 8 (User ID)\n"
          ]
        }
      ]
    }
  ]
}