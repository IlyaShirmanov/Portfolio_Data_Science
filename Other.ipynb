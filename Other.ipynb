{
  "nbformat": 4,
  "nbformat_minor": 0,
  "metadata": {
    "colab": {
      "provenance": [],
      "authorship_tag": "ABX9TyOGN7eA01+viLNENpezfPzz"
    },
    "kernelspec": {
      "name": "python3",
      "display_name": "Python 3"
    },
    "language_info": {
      "name": "python"
    }
  },
  "cells": [
    {
      "cell_type": "code",
      "execution_count": null,
      "metadata": {
        "id": "ak93gRtyzEHH"
      },
      "outputs": [],
      "source": [
        "import requests\n",
        "from urllib import parse\n",
        "import pandas as pd\n",
        "from bs4 import BeautifulSoup\n",
        "import time\n",
        "import numpy as np"
      ]
    },
    {
      "cell_type": "markdown",
      "source": [
        "Скачивание файлов из Яндекс диска"
      ],
      "metadata": {
        "id": "385xi7UJzVLA"
      }
    },
    {
      "cell_type": "code",
      "source": [
        "def load_yandex_disk (public_key):\n",
        "  '''\n",
        "  Скачивание файлов из яндекс диска\n",
        "  Данная функция принимает на вход ссылку на файл с Яндекс диска\n",
        "  в виде текстовой строки (в кавычках)\n",
        "  Пример 'https://disk.yandex.ru/d/bzrCg3jECpnF3Q'\n",
        "  Перед использованием необходимо загрузить следующие библиотеки \n",
        "  import requests\n",
        "  from urllib import parse\n",
        "  На выходе\n",
        "  Загружает файл в Phyton и возвращает название файла,\n",
        "  Пример использования:\n",
        "  df=pd.read_csv(load_yandex_disk ('ссылка'))\n",
        "\n",
        "  '''\n",
        "  base_url = 'https://cloud-api.yandex.net/v1/disk/public/resources/download?'\n",
        "\n",
        "  # Получаем загрузочную ссылку\n",
        "  final_url = base_url + parse.urlencode(dict(public_key=public_key))\n",
        "  response = requests.get(final_url)\n",
        "  download_url = response.json()['href']\n",
        "\n",
        "  #Получаем имя файла из ссылки\n",
        "  file_name = download_url.split('/')[6]\n",
        "  file_name = file_name.split('&')[1]\n",
        "  file_name = file_name.split('=')[1]\n",
        "  file_name = parse.unquote(file_name)\n",
        "\n",
        "  # Загружаем файл и сохраняем его\n",
        "  download_response = requests.get(download_url)\n",
        "  with open(file_name, 'wb') as f:\n",
        "    f.write(download_response.content)\n",
        "  return file_name"
      ],
      "metadata": {
        "id": "cMr7jSp0zP1p"
      },
      "execution_count": null,
      "outputs": []
    },
    {
      "cell_type": "markdown",
      "source": [
        "Функция,  поиска по сайту habr.com."
      ],
      "metadata": {
        "id": "Zy63r-wHgqnX"
      }
    },
    {
      "cell_type": "code",
      "source": [
        "def get_posts_from_blog_full(requests_habr, pages):\n",
        "    '''\n",
        "    Функция забирает материалы поиска с сайта habr.com\n",
        "    и формирует датафрейм вида\n",
        "    <дата> - <заголовок> - <ссылка на материал> - <текст материала> - <количество лайков>\n",
        "    Принимает на вход 2 аргумента (поисковый запрос в виде списка запросов, количество страниц (с сайта) в поиске)\n",
        "    '''\n",
        "    \n",
        "    habr_blog_full = pd.DataFrame()    \n",
        "    for request in requests_habr:\n",
        "      for page in range(1,pages +1):\n",
        "        url = 'https://habr.com/ru/search/page' + str(page)\n",
        "        params = { 'q': request}\n",
        "        res = requests.post(url, params=params)\n",
        "        time.sleep(0.33)\n",
        "        soup = BeautifulSoup(res.text)\n",
        "        articles = soup.find_all('article', class_='tm-articles-list__item')\n",
        "\n",
        "        for article in articles:\n",
        "          date = article.find('span', class_='tm-article-snippet__datetime-published').text\n",
        "          title = article.find('h2', class_='tm-article-snippet__title tm-article-snippet__title_h2').text\n",
        "          link = 'https://www.habr.com'+ article.find('h2', class_='tm-article-snippet__title tm-article-snippet__title_h2').find('a').get('href')\n",
        "        \n",
        "          # Данный блок кода переходит по ссылке и забирает оттуда текст\n",
        "          res_text = requests.get(link).text\n",
        "          time.sleep(0.33)        \n",
        "          soup_text = BeautifulSoup(res_text)\n",
        "          articles_text = soup_text.find('div', class_='article-formatted-body')\n",
        "\n",
        "          likes = article.find('svg', class_='tm-svg-img tm-votes-meter__icon tm-votes-meter__icon tm-votes-meter__icon_appearance-article').text\n",
        "\n",
        "          row = {'date': date, 'title': title, 'link': link, 'text' : articles_text, 'likes' : likes}\n",
        "          habr_blog_full = pd.concat([habr_blog_full, pd.DataFrame([row])])\n",
        "    return habr_blog_full.reset_index(drop=True).drop_duplicates()"
      ],
      "metadata": {
        "id": "MUkV3-P3gUHS"
      },
      "execution_count": null,
      "outputs": []
    },
    {
      "cell_type": "code",
      "source": [
        "get_posts_from_blog_full(['phyton', 'java'], 4)"
      ],
      "metadata": {
        "id": "q1rbMyttglPV"
      },
      "execution_count": null,
      "outputs": []
    },
    {
      "cell_type": "markdown",
      "source": [
        "Смоделируем игру против лотерейного автомата типа “777”. Игрок платит 1 руб., после чего выпадает случайное целое число, равномерно распределенное от 0 до 999. При некоторых значениях числа игрок получает выигрыш.\n",
        "\n",
        "777: 200 руб.\n",
        "\n",
        "999: 100 руб.\n",
        "\n",
        "555: 50 руб.\n",
        "\n",
        "333: 15 руб.\n",
        "\n",
        "111: 10 руб.\n",
        "\n",
        "*77: 5 руб.\n",
        "\n",
        "**7: 3 руб.\n",
        "\n",
        "*00: 2 руб.\n",
        "\n",
        "**0: 1 руб.\n",
        "\n",
        "Вопросы:\n",
        "\n",
        "Выгодна ли игра игроку? Сколько в среднем приобретает или теряет игрок за одну игру?"
      ],
      "metadata": {
        "id": "RbSbSm_XirMl"
      }
    },
    {
      "cell_type": "code",
      "source": [
        "trials = 1000000\n",
        "balans = 0\n",
        "\n",
        "for i in range(trials):\n",
        "    random_number = np.random.randint(0, 1000)    # Случайное число от 0 до 999\n",
        "    if random_number == 777:\n",
        "        balans += 199\n",
        "    elif random_number == 999:\n",
        "      balans += 99\n",
        "    elif random_number == 555:\n",
        "      balans += 49\n",
        "    elif random_number == 333:\n",
        "      balans += 14\n",
        "    elif random_number == 111:\n",
        "      balans += 9\n",
        "    elif random_number % 100 == 77:\n",
        "      balans += 4\n",
        "    elif random_number % 10 == 7:\n",
        "      balans += 2\n",
        "    elif random_number % 100 == 0:\n",
        "      balans += 1\n",
        "    elif random_number % 10 == 0:\n",
        "      balans += 0\n",
        "    else:\n",
        "      balans -= 1\n",
        "\n",
        "if balans > 0:\n",
        "  print ('При данных случайных числах игра выгодна игроку')\n",
        "  print (f'В среднем игрок за одну игру приобретает {balans/trials} руб.')\n",
        "elif balans < 0:\n",
        "  print ('При данных случайных числах игра невыгодна игроку')\n",
        "  print (f'В среднем игрок за одну игру теряет {abs(balans/trials)} руб.') \n",
        "else:\n",
        "  print ('При данных случайных числах игрок ни чего не приобрел, но и не потерял')\n",
        "print(f'Баланс игрока {balans} руб.')"
      ],
      "metadata": {
        "id": "V_KnTmGXiqm-"
      },
      "execution_count": null,
      "outputs": []
    }
  ]
}