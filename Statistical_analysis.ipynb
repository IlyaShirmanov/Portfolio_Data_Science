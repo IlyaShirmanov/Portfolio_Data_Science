{
  "cells": [
    {
      "cell_type": "code",
      "execution_count": null,
      "metadata": {
        "ExecuteTime": {
          "end_time": "2022-02-26T19:56:25.147061Z",
          "start_time": "2022-02-26T19:56:23.942994Z"
        },
        "id": "fQa8AhukXDAF"
      },
      "outputs": [],
      "source": [
        "import pandas as pd\n",
        "import numpy as np\n",
        "import matplotlib\n",
        "import matplotlib.pyplot as plt\n",
        "from scipy import stats # Здесь сидят функции проверки гипотез\n",
        "matplotlib.style.use('ggplot')\n",
        "%matplotlib inline\n",
        "import seaborn as sns"
      ]
    },
    {
      "cell_type": "markdown",
      "metadata": {
        "id": "tcNCJsrOXDAS"
      },
      "source": [
        "\n",
        "Пример 1\n",
        "\n",
        "Дома в Альбукерке (на углу VS не на углу)"
      ]
    },
    {
      "cell_type": "markdown",
      "metadata": {
        "id": "ZQ-ML-iOXDAS"
      },
      "source": [
        "Мы занимаемся продажей домов.  Ассоциация риелторов фиксирует каждую сделку о покупке и продаже дома. Для каждого дома мы знаем: \n",
        "- Цена (в сотнях долларов)\n",
        "- Площадь (в футах квадратных)\n",
        "- Возраст\n",
        "- Количество дополнительных удобств (посудомоечная машина, холодильник, микроволновая печь, измельчитель, стиральная машина, домофон, окно в крыше, компактор, сушилка, пандус, доступ к кабельному телевидению)\n",
        "- Расположен в северо-восточном секторе города (престижный район) (Да (1) или Нет (0))\n",
        "- Изготовлен на заказ\n",
        "- Расположен на углу \n",
        "- Ежегодные налоги за владение домом\n",
        "\n",
        "В Китае дома на угла пользуются меньшим спросом, считается, что в них скапливается отрицательная энергия. Давайте проверим, есть ли подобное предубеждение в Альбукерке. "
      ]
    },
    {
      "cell_type": "code",
      "execution_count": null,
      "metadata": {
        "ExecuteTime": {
          "end_time": "2022-02-26T19:56:26.035038Z",
          "start_time": "2022-02-26T19:56:26.006996Z"
        },
        "id": "1wKv31otXDAT"
      },
      "outputs": [],
      "source": [
        "df = pd.read_csv('https://raw.githubusercontent.com/IlyaShirmanov/Portfolio_Data_Science_Files/main/Albuquerque_Home_Prices_data.txt', sep='\\t')"
      ]
    },
    {
      "cell_type": "code",
      "execution_count": null,
      "metadata": {
        "ExecuteTime": {
          "end_time": "2022-02-26T19:56:26.066994Z",
          "start_time": "2022-02-26T19:56:26.038996Z"
        },
        "id": "uuRCf-FUXDAU",
        "outputId": "8a570336-fae4-4f08-b7ee-6f85a92e42b3",
        "colab": {
          "base_uri": "https://localhost:8080/",
          "height": 206
        }
      },
      "outputs": [
        {
          "output_type": "execute_result",
          "data": {
            "text/plain": [
              "   PRICE  SQFT   AGE  FEATS  NE  CUST  COR   TAX\n",
              "0   2050  2650    13      7   1     1    0  1639\n",
              "1   2080  2600 -9999      4   1     1    0  1088\n",
              "2   2150  2664     6      5   1     1    0  1193\n",
              "3   2150  2921     3      6   1     1    0  1635\n",
              "4   1999  2580     4      4   1     1    0  1732"
            ],
            "text/html": [
              "\n",
              "  <div id=\"df-5506ac99-4940-424d-9c08-196a4e576025\">\n",
              "    <div class=\"colab-df-container\">\n",
              "      <div>\n",
              "<style scoped>\n",
              "    .dataframe tbody tr th:only-of-type {\n",
              "        vertical-align: middle;\n",
              "    }\n",
              "\n",
              "    .dataframe tbody tr th {\n",
              "        vertical-align: top;\n",
              "    }\n",
              "\n",
              "    .dataframe thead th {\n",
              "        text-align: right;\n",
              "    }\n",
              "</style>\n",
              "<table border=\"1\" class=\"dataframe\">\n",
              "  <thead>\n",
              "    <tr style=\"text-align: right;\">\n",
              "      <th></th>\n",
              "      <th>PRICE</th>\n",
              "      <th>SQFT</th>\n",
              "      <th>AGE</th>\n",
              "      <th>FEATS</th>\n",
              "      <th>NE</th>\n",
              "      <th>CUST</th>\n",
              "      <th>COR</th>\n",
              "      <th>TAX</th>\n",
              "    </tr>\n",
              "  </thead>\n",
              "  <tbody>\n",
              "    <tr>\n",
              "      <th>0</th>\n",
              "      <td>2050</td>\n",
              "      <td>2650</td>\n",
              "      <td>13</td>\n",
              "      <td>7</td>\n",
              "      <td>1</td>\n",
              "      <td>1</td>\n",
              "      <td>0</td>\n",
              "      <td>1639</td>\n",
              "    </tr>\n",
              "    <tr>\n",
              "      <th>1</th>\n",
              "      <td>2080</td>\n",
              "      <td>2600</td>\n",
              "      <td>-9999</td>\n",
              "      <td>4</td>\n",
              "      <td>1</td>\n",
              "      <td>1</td>\n",
              "      <td>0</td>\n",
              "      <td>1088</td>\n",
              "    </tr>\n",
              "    <tr>\n",
              "      <th>2</th>\n",
              "      <td>2150</td>\n",
              "      <td>2664</td>\n",
              "      <td>6</td>\n",
              "      <td>5</td>\n",
              "      <td>1</td>\n",
              "      <td>1</td>\n",
              "      <td>0</td>\n",
              "      <td>1193</td>\n",
              "    </tr>\n",
              "    <tr>\n",
              "      <th>3</th>\n",
              "      <td>2150</td>\n",
              "      <td>2921</td>\n",
              "      <td>3</td>\n",
              "      <td>6</td>\n",
              "      <td>1</td>\n",
              "      <td>1</td>\n",
              "      <td>0</td>\n",
              "      <td>1635</td>\n",
              "    </tr>\n",
              "    <tr>\n",
              "      <th>4</th>\n",
              "      <td>1999</td>\n",
              "      <td>2580</td>\n",
              "      <td>4</td>\n",
              "      <td>4</td>\n",
              "      <td>1</td>\n",
              "      <td>1</td>\n",
              "      <td>0</td>\n",
              "      <td>1732</td>\n",
              "    </tr>\n",
              "  </tbody>\n",
              "</table>\n",
              "</div>\n",
              "      <button class=\"colab-df-convert\" onclick=\"convertToInteractive('df-5506ac99-4940-424d-9c08-196a4e576025')\"\n",
              "              title=\"Convert this dataframe to an interactive table.\"\n",
              "              style=\"display:none;\">\n",
              "        \n",
              "  <svg xmlns=\"http://www.w3.org/2000/svg\" height=\"24px\"viewBox=\"0 0 24 24\"\n",
              "       width=\"24px\">\n",
              "    <path d=\"M0 0h24v24H0V0z\" fill=\"none\"/>\n",
              "    <path d=\"M18.56 5.44l.94 2.06.94-2.06 2.06-.94-2.06-.94-.94-2.06-.94 2.06-2.06.94zm-11 1L8.5 8.5l.94-2.06 2.06-.94-2.06-.94L8.5 2.5l-.94 2.06-2.06.94zm10 10l.94 2.06.94-2.06 2.06-.94-2.06-.94-.94-2.06-.94 2.06-2.06.94z\"/><path d=\"M17.41 7.96l-1.37-1.37c-.4-.4-.92-.59-1.43-.59-.52 0-1.04.2-1.43.59L10.3 9.45l-7.72 7.72c-.78.78-.78 2.05 0 2.83L4 21.41c.39.39.9.59 1.41.59.51 0 1.02-.2 1.41-.59l7.78-7.78 2.81-2.81c.8-.78.8-2.07 0-2.86zM5.41 20L4 18.59l7.72-7.72 1.47 1.35L5.41 20z\"/>\n",
              "  </svg>\n",
              "      </button>\n",
              "      \n",
              "  <style>\n",
              "    .colab-df-container {\n",
              "      display:flex;\n",
              "      flex-wrap:wrap;\n",
              "      gap: 12px;\n",
              "    }\n",
              "\n",
              "    .colab-df-convert {\n",
              "      background-color: #E8F0FE;\n",
              "      border: none;\n",
              "      border-radius: 50%;\n",
              "      cursor: pointer;\n",
              "      display: none;\n",
              "      fill: #1967D2;\n",
              "      height: 32px;\n",
              "      padding: 0 0 0 0;\n",
              "      width: 32px;\n",
              "    }\n",
              "\n",
              "    .colab-df-convert:hover {\n",
              "      background-color: #E2EBFA;\n",
              "      box-shadow: 0px 1px 2px rgba(60, 64, 67, 0.3), 0px 1px 3px 1px rgba(60, 64, 67, 0.15);\n",
              "      fill: #174EA6;\n",
              "    }\n",
              "\n",
              "    [theme=dark] .colab-df-convert {\n",
              "      background-color: #3B4455;\n",
              "      fill: #D2E3FC;\n",
              "    }\n",
              "\n",
              "    [theme=dark] .colab-df-convert:hover {\n",
              "      background-color: #434B5C;\n",
              "      box-shadow: 0px 1px 3px 1px rgba(0, 0, 0, 0.15);\n",
              "      filter: drop-shadow(0px 1px 2px rgba(0, 0, 0, 0.3));\n",
              "      fill: #FFFFFF;\n",
              "    }\n",
              "  </style>\n",
              "\n",
              "      <script>\n",
              "        const buttonEl =\n",
              "          document.querySelector('#df-5506ac99-4940-424d-9c08-196a4e576025 button.colab-df-convert');\n",
              "        buttonEl.style.display =\n",
              "          google.colab.kernel.accessAllowed ? 'block' : 'none';\n",
              "\n",
              "        async function convertToInteractive(key) {\n",
              "          const element = document.querySelector('#df-5506ac99-4940-424d-9c08-196a4e576025');\n",
              "          const dataTable =\n",
              "            await google.colab.kernel.invokeFunction('convertToInteractive',\n",
              "                                                     [key], {});\n",
              "          if (!dataTable) return;\n",
              "\n",
              "          const docLinkHtml = 'Like what you see? Visit the ' +\n",
              "            '<a target=\"_blank\" href=https://colab.research.google.com/notebooks/data_table.ipynb>data table notebook</a>'\n",
              "            + ' to learn more about interactive tables.';\n",
              "          element.innerHTML = '';\n",
              "          dataTable['output_type'] = 'display_data';\n",
              "          await google.colab.output.renderOutput(dataTable, element);\n",
              "          const docLink = document.createElement('div');\n",
              "          docLink.innerHTML = docLinkHtml;\n",
              "          element.appendChild(docLink);\n",
              "        }\n",
              "      </script>\n",
              "    </div>\n",
              "  </div>\n",
              "  "
            ]
          },
          "metadata": {},
          "execution_count": 3
        }
      ],
      "source": [
        "df.head()"
      ]
    },
    {
      "cell_type": "markdown",
      "metadata": {
        "id": "YuzUUH8wXDAV"
      },
      "source": [
        "Хотим проверить, что цены домов на углу (```COR = 1```) отличаются от цен домов не на углу (```COR = 0```). Хотим попробовать применить критерий Стьюдента, но для этого нужно:\n",
        "1. Проверить нормальность данных,\n",
        "2. Проверить равенство дисперсий.\n",
        "\n",
        "Очевидно, что значение -9999 здесь употребляется в качестве пустого значения. Нужно заменить его на корректное пустое значение."
      ]
    },
    {
      "cell_type": "code",
      "execution_count": null,
      "metadata": {
        "ExecuteTime": {
          "end_time": "2022-02-26T19:56:26.083038Z",
          "start_time": "2022-02-26T19:56:26.068993Z"
        },
        "id": "ufmzyUa7XDAV"
      },
      "outputs": [],
      "source": [
        "df = df.replace(-9999, np.nan)"
      ]
    },
    {
      "cell_type": "code",
      "execution_count": null,
      "metadata": {
        "ExecuteTime": {
          "end_time": "2022-02-26T19:56:26.116054Z",
          "start_time": "2022-02-26T19:56:26.087038Z"
        },
        "id": "WXnbK3SqXDAW",
        "outputId": "c8378957-5832-46ee-c0fa-2e33887a0676",
        "colab": {
          "base_uri": "https://localhost:8080/",
          "height": 206
        }
      },
      "outputs": [
        {
          "output_type": "execute_result",
          "data": {
            "text/plain": [
              "   PRICE  SQFT   AGE  FEATS  NE  CUST  COR     TAX\n",
              "0   2050  2650  13.0      7   1     1    0  1639.0\n",
              "1   2080  2600   NaN      4   1     1    0  1088.0\n",
              "2   2150  2664   6.0      5   1     1    0  1193.0\n",
              "3   2150  2921   3.0      6   1     1    0  1635.0\n",
              "4   1999  2580   4.0      4   1     1    0  1732.0"
            ],
            "text/html": [
              "\n",
              "  <div id=\"df-9fe081b8-86cc-4599-885f-f63db17caa99\">\n",
              "    <div class=\"colab-df-container\">\n",
              "      <div>\n",
              "<style scoped>\n",
              "    .dataframe tbody tr th:only-of-type {\n",
              "        vertical-align: middle;\n",
              "    }\n",
              "\n",
              "    .dataframe tbody tr th {\n",
              "        vertical-align: top;\n",
              "    }\n",
              "\n",
              "    .dataframe thead th {\n",
              "        text-align: right;\n",
              "    }\n",
              "</style>\n",
              "<table border=\"1\" class=\"dataframe\">\n",
              "  <thead>\n",
              "    <tr style=\"text-align: right;\">\n",
              "      <th></th>\n",
              "      <th>PRICE</th>\n",
              "      <th>SQFT</th>\n",
              "      <th>AGE</th>\n",
              "      <th>FEATS</th>\n",
              "      <th>NE</th>\n",
              "      <th>CUST</th>\n",
              "      <th>COR</th>\n",
              "      <th>TAX</th>\n",
              "    </tr>\n",
              "  </thead>\n",
              "  <tbody>\n",
              "    <tr>\n",
              "      <th>0</th>\n",
              "      <td>2050</td>\n",
              "      <td>2650</td>\n",
              "      <td>13.0</td>\n",
              "      <td>7</td>\n",
              "      <td>1</td>\n",
              "      <td>1</td>\n",
              "      <td>0</td>\n",
              "      <td>1639.0</td>\n",
              "    </tr>\n",
              "    <tr>\n",
              "      <th>1</th>\n",
              "      <td>2080</td>\n",
              "      <td>2600</td>\n",
              "      <td>NaN</td>\n",
              "      <td>4</td>\n",
              "      <td>1</td>\n",
              "      <td>1</td>\n",
              "      <td>0</td>\n",
              "      <td>1088.0</td>\n",
              "    </tr>\n",
              "    <tr>\n",
              "      <th>2</th>\n",
              "      <td>2150</td>\n",
              "      <td>2664</td>\n",
              "      <td>6.0</td>\n",
              "      <td>5</td>\n",
              "      <td>1</td>\n",
              "      <td>1</td>\n",
              "      <td>0</td>\n",
              "      <td>1193.0</td>\n",
              "    </tr>\n",
              "    <tr>\n",
              "      <th>3</th>\n",
              "      <td>2150</td>\n",
              "      <td>2921</td>\n",
              "      <td>3.0</td>\n",
              "      <td>6</td>\n",
              "      <td>1</td>\n",
              "      <td>1</td>\n",
              "      <td>0</td>\n",
              "      <td>1635.0</td>\n",
              "    </tr>\n",
              "    <tr>\n",
              "      <th>4</th>\n",
              "      <td>1999</td>\n",
              "      <td>2580</td>\n",
              "      <td>4.0</td>\n",
              "      <td>4</td>\n",
              "      <td>1</td>\n",
              "      <td>1</td>\n",
              "      <td>0</td>\n",
              "      <td>1732.0</td>\n",
              "    </tr>\n",
              "  </tbody>\n",
              "</table>\n",
              "</div>\n",
              "      <button class=\"colab-df-convert\" onclick=\"convertToInteractive('df-9fe081b8-86cc-4599-885f-f63db17caa99')\"\n",
              "              title=\"Convert this dataframe to an interactive table.\"\n",
              "              style=\"display:none;\">\n",
              "        \n",
              "  <svg xmlns=\"http://www.w3.org/2000/svg\" height=\"24px\"viewBox=\"0 0 24 24\"\n",
              "       width=\"24px\">\n",
              "    <path d=\"M0 0h24v24H0V0z\" fill=\"none\"/>\n",
              "    <path d=\"M18.56 5.44l.94 2.06.94-2.06 2.06-.94-2.06-.94-.94-2.06-.94 2.06-2.06.94zm-11 1L8.5 8.5l.94-2.06 2.06-.94-2.06-.94L8.5 2.5l-.94 2.06-2.06.94zm10 10l.94 2.06.94-2.06 2.06-.94-2.06-.94-.94-2.06-.94 2.06-2.06.94z\"/><path d=\"M17.41 7.96l-1.37-1.37c-.4-.4-.92-.59-1.43-.59-.52 0-1.04.2-1.43.59L10.3 9.45l-7.72 7.72c-.78.78-.78 2.05 0 2.83L4 21.41c.39.39.9.59 1.41.59.51 0 1.02-.2 1.41-.59l7.78-7.78 2.81-2.81c.8-.78.8-2.07 0-2.86zM5.41 20L4 18.59l7.72-7.72 1.47 1.35L5.41 20z\"/>\n",
              "  </svg>\n",
              "      </button>\n",
              "      \n",
              "  <style>\n",
              "    .colab-df-container {\n",
              "      display:flex;\n",
              "      flex-wrap:wrap;\n",
              "      gap: 12px;\n",
              "    }\n",
              "\n",
              "    .colab-df-convert {\n",
              "      background-color: #E8F0FE;\n",
              "      border: none;\n",
              "      border-radius: 50%;\n",
              "      cursor: pointer;\n",
              "      display: none;\n",
              "      fill: #1967D2;\n",
              "      height: 32px;\n",
              "      padding: 0 0 0 0;\n",
              "      width: 32px;\n",
              "    }\n",
              "\n",
              "    .colab-df-convert:hover {\n",
              "      background-color: #E2EBFA;\n",
              "      box-shadow: 0px 1px 2px rgba(60, 64, 67, 0.3), 0px 1px 3px 1px rgba(60, 64, 67, 0.15);\n",
              "      fill: #174EA6;\n",
              "    }\n",
              "\n",
              "    [theme=dark] .colab-df-convert {\n",
              "      background-color: #3B4455;\n",
              "      fill: #D2E3FC;\n",
              "    }\n",
              "\n",
              "    [theme=dark] .colab-df-convert:hover {\n",
              "      background-color: #434B5C;\n",
              "      box-shadow: 0px 1px 3px 1px rgba(0, 0, 0, 0.15);\n",
              "      filter: drop-shadow(0px 1px 2px rgba(0, 0, 0, 0.3));\n",
              "      fill: #FFFFFF;\n",
              "    }\n",
              "  </style>\n",
              "\n",
              "      <script>\n",
              "        const buttonEl =\n",
              "          document.querySelector('#df-9fe081b8-86cc-4599-885f-f63db17caa99 button.colab-df-convert');\n",
              "        buttonEl.style.display =\n",
              "          google.colab.kernel.accessAllowed ? 'block' : 'none';\n",
              "\n",
              "        async function convertToInteractive(key) {\n",
              "          const element = document.querySelector('#df-9fe081b8-86cc-4599-885f-f63db17caa99');\n",
              "          const dataTable =\n",
              "            await google.colab.kernel.invokeFunction('convertToInteractive',\n",
              "                                                     [key], {});\n",
              "          if (!dataTable) return;\n",
              "\n",
              "          const docLinkHtml = 'Like what you see? Visit the ' +\n",
              "            '<a target=\"_blank\" href=https://colab.research.google.com/notebooks/data_table.ipynb>data table notebook</a>'\n",
              "            + ' to learn more about interactive tables.';\n",
              "          element.innerHTML = '';\n",
              "          dataTable['output_type'] = 'display_data';\n",
              "          await google.colab.output.renderOutput(dataTable, element);\n",
              "          const docLink = document.createElement('div');\n",
              "          docLink.innerHTML = docLinkHtml;\n",
              "          element.appendChild(docLink);\n",
              "        }\n",
              "      </script>\n",
              "    </div>\n",
              "  </div>\n",
              "  "
            ]
          },
          "metadata": {},
          "execution_count": 5
        }
      ],
      "source": [
        "df.head()"
      ]
    },
    {
      "cell_type": "markdown",
      "metadata": {
        "id": "i7-MjP1wXDAW"
      },
      "source": [
        "Сохраним в отдельные переменные выборки, которые собираемся сравнивать."
      ]
    },
    {
      "cell_type": "code",
      "execution_count": null,
      "metadata": {
        "ExecuteTime": {
          "end_time": "2022-02-26T19:56:26.162007Z",
          "start_time": "2022-02-26T19:56:26.117996Z"
        },
        "id": "p5VL3rSnXDAX"
      },
      "outputs": [],
      "source": [
        "x = df[df['COR'] == 1]['PRICE']\n",
        "y = df[df['COR'] == 0]['PRICE']\n",
        "x.name, y.name = 'corner', 'not corner'"
      ]
    },
    {
      "cell_type": "markdown",
      "metadata": {
        "id": "CSbVieT4XDAX"
      },
      "source": [
        "Проверяем нормальность распределений."
      ]
    },
    {
      "cell_type": "code",
      "execution_count": null,
      "metadata": {
        "ExecuteTime": {
          "end_time": "2022-02-26T19:56:26.177996Z",
          "start_time": "2022-02-26T19:56:26.166000Z"
        },
        "id": "PExxUCV6XDAY"
      },
      "outputs": [],
      "source": [
        "# Создадим простую функцию для визуализации распределения пары выборок.\n",
        "def two_histograms(x, y):\n",
        "    # После определения функции полезно бывает добавить её описание в таком стиле.\n",
        "    # Тройные кавычки -- для обрамления многострочных строковых литералов.\n",
        "    \"\"\"\n",
        "    Функция, которая построит две гистограммы на одной картинке.\n",
        "    Дополнительно пунктирными линиями указываются средние значения выборок.\n",
        "    x: вектор pd.Series,\n",
        "    y: вектор pd.Series\n",
        "    \"\"\"\n",
        "    # alpha - прозрачность, weights - позволяет задать веса, по которым мы строим гистограмму.\n",
        "    x.hist(alpha=0.5, weights=[1./len(x)]*len(x))  \n",
        "    y.hist(alpha=0.5, weights=[1./len(y)]*len(y))\n",
        "    plt.axvline(x.mean(), color='red', alpha=0.8, linestyle='dashed')\n",
        "    plt.axvline(y.mean(), color='blue', alpha=0.8, linestyle='dashed')\n",
        "    plt.legend([x.name, y.name])"
      ]
    },
    {
      "cell_type": "code",
      "execution_count": null,
      "metadata": {
        "ExecuteTime": {
          "end_time": "2022-02-26T19:56:26.432032Z",
          "start_time": "2022-02-26T19:56:26.182997Z"
        },
        "id": "pqrwl3PHXDAZ",
        "outputId": "aeec4c24-5dd8-422e-b2de-486634ea923d",
        "colab": {
          "base_uri": "https://localhost:8080/",
          "height": 265
        }
      },
      "outputs": [
        {
          "output_type": "display_data",
          "data": {
            "text/plain": [
              "<Figure size 432x288 with 1 Axes>"
            ],
            "image/png": "[encoded data removed]"
          },
          "metadata": {
            "needs_background": "light"
          }
        }
      ],
      "source": [
        "# вызываем функцию для определённых выше векторов x, y.\n",
        "two_histograms(y, x)"
      ]
    },
    {
      "cell_type": "markdown",
      "metadata": {
        "id": "_9KSYj_RXDAZ"
      },
      "source": [
        "В распределении есть очевидные выбросы, которые не дают применить критерий Стюдента. Можно было бы попробовать избавиться от них, но первой (синей) гистограмме это не поможет - выброс у неё всего один, и его удаление не сделает данные более нормальными: слишком уж большой крайний левый столбик. Тогда можно поробовать применить непараметрические критерии. Критерий Уилкоксона применим только для парных выборок. У нас же в разных выборках находятся разные объекты (дома). Поэтому нам остаётся критерий Манна-Уитни.\n",
        "\n",
        "- парные выборки - две выборки набираются таким образом, что с каждым наблюдением одной выборки сопоставлено наблюдение другой выборки;"
      ]
    },
    {
      "cell_type": "code",
      "execution_count": null,
      "metadata": {
        "ExecuteTime": {
          "end_time": "2022-02-26T19:56:26.608006Z",
          "start_time": "2022-02-26T19:56:26.435996Z"
        },
        "id": "_yaV30vyXDAa",
        "outputId": "f6917824-4b97-485d-b325-22957484df46",
        "colab": {
          "base_uri": "https://localhost:8080/",
          "height": 283
        }
      },
      "outputs": [
        {
          "output_type": "display_data",
          "data": {
            "text/plain": [
              "<Figure size 432x288 with 1 Axes>"
            ],
            "image/png": "[encoded data removed]"
          },
          "metadata": {
            "needs_background": "light"
          }
        }
      ],
      "source": [
        "# За одно посмотрим на \"ящики с усами\", поскольку в нашей визуализации из нет (для большей читаемости)\n",
        "sns.boxplot(\n",
        "    x='COR',\n",
        "    y='PRICE',\n",
        "    data=df\n",
        ");"
      ]
    },
    {
      "cell_type": "markdown",
      "metadata": {
        "id": "_YBQhWaLXDAb"
      },
      "source": [
        "Судя по графику, медиана будет отличаться статистически незначимо. \n",
        "Так же можно сделать вывод, что среди угловых домов редко встречаются очень дорогие."
      ]
    },
    {
      "cell_type": "markdown",
      "metadata": {
        "id": "cKi8baNcXDAd"
      },
      "source": [
        "Нипишем мини-функцию, поясняющую результат теста с возможностью указывать уровень значимости, и дополнительным сообщением, насколько сильным было отклонение от заданного показателя. "
      ]
    },
    {
      "cell_type": "code",
      "execution_count": null,
      "metadata": {
        "ExecuteTime": {
          "end_time": "2022-02-26T19:56:26.639995Z",
          "start_time": "2022-02-26T19:56:26.626996Z"
        },
        "id": "cowuxEDdXDAe"
      },
      "outputs": [],
      "source": [
        "def stats_manna_whitneyu(x, y, significance_level = 0.05, alternative = \"two-sided\", axis = 0, method = 'auto', use_continuity = True):\n",
        "    \"\"\"\n",
        "    Функция стат. теста Манна-Уитни\n",
        "    Принимает переменные x, y\n",
        "    Имеет следующие параметры, которые можно изменять:\n",
        "    significance_level (доверительный интервал) по умолчанию = 0.05, \n",
        "    а так же параметры функции scipy.stats.mannwhitneyu (https://docs.scipy.org/doc/scipy/reference/generated/scipy.stats.mannwhitneyu.html)\n",
        "    \"\"\"\n",
        "    res = stats.mannwhitneyu(x, y, alternative = alternative, axis = axis, method = method, use_continuity = use_continuity)\n",
        "    print(f'p-value = {res[1]}')\n",
        "    print(f'От заданного показателя уровня значимости в {significance_level} отклонение составляет {res[1] - significance_level}')\n",
        "    if res[1] - significance_level > 0:\n",
        "      print('Нет оснований отвергнуть гипотезу H0')\n",
        "    else:\n",
        "      print('Принимается гипотеза Н1')"
      ]
    },
    {
      "cell_type": "markdown",
      "source": [
        "Проведем стат тест Манна-Уитни\n",
        "\n",
        "Н0 цены домов на углу (COR = 1) не отличаются от цен домов не на углу (COR = 0).\n",
        "\n",
        "Н1 цены домов на углу (COR = 1) отличаются от цен домов не на углу (COR = 0).\n",
        "Уровень значимости 0.05"
      ],
      "metadata": {
        "id": "srCQDq8nPDu_"
      }
    },
    {
      "cell_type": "code",
      "source": [
        "stats_manna_whitneyu(x, y)"
      ],
      "metadata": {
        "colab": {
          "base_uri": "https://localhost:8080/"
        },
        "id": "QUXm_EOazP-b",
        "outputId": "cc414286-755d-465d-b16d-265ffdcfbb0a"
      },
      "execution_count": null,
      "outputs": [
        {
          "output_type": "stream",
          "name": "stdout",
          "text": [
            "p-value = 0.8044081572425339\n",
            "От заданного показателя уровня значимости в 0.05 отклонение составляет 0.7544081572425338\n",
            "Нет оснований отвергнуть гипотезу H0\n"
          ]
        }
      ]
    },
    {
      "cell_type": "markdown",
      "metadata": {
        "id": "ti6Z53znXDAe"
      },
      "source": [
        "Задача 2:\n",
        "    \n",
        "Проанализировать цены на дома на северо-восток и остальные, сделать гипотезы по графикам, проверить их соответствующими тестами"
      ]
    },
    {
      "cell_type": "code",
      "execution_count": null,
      "metadata": {
        "ExecuteTime": {
          "end_time": "2022-02-26T19:56:26.656027Z",
          "start_time": "2022-02-26T19:56:26.641993Z"
        },
        "id": "gbVWeZfrXDAf"
      },
      "outputs": [],
      "source": [
        "x = df[(df['PRICE'] == df['PRICE']) & (df['NE'] == 1)]['PRICE']\n",
        "y = df[(df['PRICE'] == df['PRICE']) & (df['NE'] == 0)]['PRICE']\n",
        "x.name, y.name = 'NE', 'not NE'"
      ]
    },
    {
      "cell_type": "code",
      "source": [
        "two_histograms(y, x)"
      ],
      "metadata": {
        "colab": {
          "base_uri": "https://localhost:8080/",
          "height": 265
        },
        "id": "m0AAwkbQ-xp5",
        "outputId": "03811c2e-a348-453d-aa94-ed2868a26b93"
      },
      "execution_count": null,
      "outputs": [
        {
          "output_type": "display_data",
          "data": {
            "text/plain": [
              "<Figure size 432x288 with 1 Axes>"
            ],
            "image/png": "[encoded data removed]"
          },
          "metadata": {
            "needs_background": "light"
          }
        }
      ]
    },
    {
      "cell_type": "code",
      "source": [
        "sns.boxplot(\n",
        "    x='NE',\n",
        "    y='PRICE',\n",
        "    data=df\n",
        ");"
      ],
      "metadata": {
        "colab": {
          "base_uri": "https://localhost:8080/",
          "height": 283
        },
        "id": "6Q-TA_gY-8lh",
        "outputId": "1ba7966f-6fcb-4d97-8604-c94680dfef66"
      },
      "execution_count": null,
      "outputs": [
        {
          "output_type": "display_data",
          "data": {
            "text/plain": [
              "<Figure size 432x288 with 1 Axes>"
            ],
            "image/png": "[encoded data removed]"
          },
          "metadata": {
            "needs_background": "light"
          }
        }
      ]
    },
    {
      "cell_type": "code",
      "source": [
        "# Исходя из графиков мы видим что медианы распоположены близко друг и другу.\n",
        "# Посмотрим точные числовые значения медиан.\n",
        "# Проведем стат. тест о равенстве медиан (критерий Муда)\n",
        "# Гипотеза Н0 медианная стоимость жилья статистически значимо не отличается.\n",
        "# Гипотеза Н1 медианная стоимость жилья разная.\n",
        "# Уровень доверия 95% (p-value = 0.05)\n",
        "\n",
        "\n",
        "print (x.median(), y.median())\n",
        "res = stats.median_test(x, y)\n",
        "print(f'p-value = {res[1]}')"
      ],
      "metadata": {
        "colab": {
          "base_uri": "https://localhost:8080/"
        },
        "id": "PZ11SmFU_arJ",
        "outputId": "02021694-3185-45d1-c3da-26e44dbfb6c7"
      },
      "execution_count": null,
      "outputs": [
        {
          "output_type": "stream",
          "name": "stdout",
          "text": [
            "985.0 940.0\n",
            "p-value = 0.4720677479376454\n"
          ]
        }
      ]
    },
    {
      "cell_type": "code",
      "source": [
        "# Вывод нет оснований отвергнуть гипотезу H0 (Медианная стоимость жилья статистически значимо не отличается)."
      ],
      "metadata": {
        "id": "VoW6TwCGC5oW"
      },
      "execution_count": null,
      "outputs": []
    },
    {
      "cell_type": "markdown",
      "metadata": {
        "id": "1P7zWup-XDAf"
      },
      "source": [
        "<div class=\"alert alert-info\">\n",
        "<b>* Задача 3 *: </b>\n",
        "    \n",
        "Сделать выводы о цене относительно количества удобств. (поправка Бонферрони, сделайте выводы без неё и проверьте, останутся ли они верны после)\n",
        "    \n",
        "    \n",
        "Собрать и обосновать наиболее удачную конфигурацию дома (представьте, что будете рекламировать клиенту дом, указывая, чем он так хорош), учитываю как цену, так и ежегодные налоги. \n",
        "</div>"
      ]
    },
    {
      "cell_type": "code",
      "source": [
        "groups = df.groupby('FEATS')\n",
        "alpha = 0.05\n",
        "baseline = groups.get_group(0)['PRICE']\n",
        "for Feat in range(1, len(groups)):\n",
        "    a = groups.get_group( Feat )['PRICE']\n",
        "    p_val = stats.ttest_ind(a, baseline, equal_var = False).pvalue \n",
        "    if p_val != p_val:\n",
        "      print(f'Для дома с {Feat} удобством(и) недостаточное количество данных для анализа. P-value = {p_val}.')\n",
        "    elif p_val < alpha: \n",
        "      print(f'Стоимость дома с {Feat} удобством(и) значимо отличается от дома без удобств. P-value = {p_val}. При уровне значимости в {alpha}')\n",
        "    else:\n",
        "      print(f'Стоимость дома с {Feat} удобством(и) не значимо отличается от дома без удобств. P-value = {p_val}. При уровне значимости в {alpha}')"
      ],
      "metadata": {
        "colab": {
          "base_uri": "https://localhost:8080/"
        },
        "id": "Vv-CZssrvZ9k",
        "outputId": "4cf107b0-cb7e-45ef-cdf0-f0caf23e4eab"
      },
      "execution_count": null,
      "outputs": [
        {
          "output_type": "stream",
          "name": "stdout",
          "text": [
            "Стоимость дома с 1 удобством(и) не значимо отличается от дома без удобств. P-value = 0.13748857389373545. При уровне значимости в 0.05\n",
            "Стоимость дома с 2 удобством(и) значимо отличается от дома без удобств. P-value = 0.03626550423153086. При уровне значимости в 0.05\n",
            "Стоимость дома с 3 удобством(и) значимо отличается от дома без удобств. P-value = 0.008437450198450712. При уровне значимости в 0.05\n",
            "Стоимость дома с 4 удобством(и) значимо отличается от дома без удобств. P-value = 0.0072731474758518985. При уровне значимости в 0.05\n",
            "Стоимость дома с 5 удобством(и) значимо отличается от дома без удобств. P-value = 0.0007890839826641991. При уровне значимости в 0.05\n",
            "Стоимость дома с 6 удобством(и) значимо отличается от дома без удобств. P-value = 0.014801084163972546. При уровне значимости в 0.05\n",
            "Для дома с 7 удобством(и) недостаточное количество данных для анализа. P-value = nan.\n",
            "Для дома с 8 удобством(и) недостаточное количество данных для анализа. P-value = nan.\n"
          ]
        },
        {
          "output_type": "stream",
          "name": "stderr",
          "text": [
            "/usr/local/lib/python3.7/dist-packages/numpy/core/fromnumeric.py:3724: RuntimeWarning: Degrees of freedom <= 0 for slice\n",
            "  **kwargs)\n",
            "/usr/local/lib/python3.7/dist-packages/numpy/core/_methods.py:254: RuntimeWarning: invalid value encountered in double_scalars\n",
            "  ret = ret.dtype.type(ret / rcount)\n"
          ]
        }
      ]
    },
    {
      "cell_type": "code",
      "source": [
        "groups = df.groupby('FEATS')\n",
        "alpha = 0.05/(len(groups))\n",
        "baseline = groups.get_group(0)['PRICE']\n",
        "for Feat in range(1, len(groups)):\n",
        "    a = groups.get_group( Feat )['PRICE']\n",
        "    p_val = stats.ttest_ind(a, baseline, equal_var = False).pvalue \n",
        "    if p_val != p_val:\n",
        "      print(f'Для дома с {Feat} удобством(и) недостаточное количество данных для анализа. P-value = {p_val}.')\n",
        "    elif p_val < alpha: \n",
        "      print(f'Стоимость дома с {Feat} удобством(и) значимо отличается от дома без удобств. P-value = {p_val}. При уровне значимости в {alpha}')\n",
        "    else:\n",
        "      print(f'Стоимость дома с {Feat} удобством(и) не значимо отличается от дома без удобств. P-value = {p_val}. При уровне значимости в {alpha}')"
      ],
      "metadata": {
        "colab": {
          "base_uri": "https://localhost:8080/"
        },
        "id": "9qNRYCD05L0A",
        "outputId": "97ad04d7-046b-4c40-b13e-464b9284adfb"
      },
      "execution_count": null,
      "outputs": [
        {
          "output_type": "stream",
          "name": "stdout",
          "text": [
            "Стоимость дома с 1 удобством(и) не значимо отличается от дома без удобств. P-value = 0.13748857389373545. При уровне значимости в 0.005555555555555556\n",
            "Стоимость дома с 2 удобством(и) не значимо отличается от дома без удобств. P-value = 0.03626550423153086. При уровне значимости в 0.005555555555555556\n",
            "Стоимость дома с 3 удобством(и) не значимо отличается от дома без удобств. P-value = 0.008437450198450712. При уровне значимости в 0.005555555555555556\n",
            "Стоимость дома с 4 удобством(и) не значимо отличается от дома без удобств. P-value = 0.0072731474758518985. При уровне значимости в 0.005555555555555556\n",
            "Стоимость дома с 5 удобством(и) значимо отличается от дома без удобств. P-value = 0.0007890839826641991. При уровне значимости в 0.005555555555555556\n",
            "Стоимость дома с 6 удобством(и) не значимо отличается от дома без удобств. P-value = 0.014801084163972546. При уровне значимости в 0.005555555555555556\n",
            "Для дома с 7 удобством(и) недостаточное количество данных для анализа. P-value = nan.\n",
            "Для дома с 8 удобством(и) недостаточное количество данных для анализа. P-value = nan.\n"
          ]
        }
      ]
    },
    {
      "cell_type": "code",
      "source": [
        "plt.scatter(df['PRICE'], df['FEATS']);"
      ],
      "metadata": {
        "colab": {
          "base_uri": "https://localhost:8080/",
          "height": 265
        },
        "id": "HQQGvMaeIKpx",
        "outputId": "98b90752-df32-43f5-e969-010d2a66b0e3"
      },
      "execution_count": null,
      "outputs": [
        {
          "output_type": "display_data",
          "data": {
            "text/plain": [
              "<Figure size 432x288 with 1 Axes>"
            ],
            "image/png": "[encoded data removed]"
          },
          "metadata": {
            "needs_background": "light"
          }
        }
      ]
    },
    {
      "cell_type": "code",
      "execution_count": null,
      "metadata": {
        "ExecuteTime": {
          "end_time": "2022-02-26T19:56:26.671996Z",
          "start_time": "2022-02-26T19:56:26.661996Z"
        },
        "id": "PNoqPdCQXDAg",
        "colab": {
          "base_uri": "https://localhost:8080/",
          "height": 283
        },
        "outputId": "202b65df-a9d1-4a70-edaf-1208831f842b"
      },
      "outputs": [
        {
          "output_type": "display_data",
          "data": {
            "text/plain": [
              "<Figure size 432x288 with 1 Axes>"
            ],
            "image/png": "[encoded data removed]"
          },
          "metadata": {
            "needs_background": "light"
          }
        }
      ],
      "source": [
        "sns.boxplot(\n",
        "    x='FEATS',\n",
        "    y='PRICE',\n",
        "    data=df\n",
        ");"
      ]
    },
    {
      "cell_type": "code",
      "source": [
        "x = df[(df['TAX'] == df['TAX']) & (df['NE'] == 1)]['TAX']\n",
        "y = df[(df['TAX'] == df['TAX']) & (df['NE'] == 0)]['TAX']\n",
        "x.name, y.name = 'NE', 'not NE'"
      ],
      "metadata": {
        "id": "jDJZhRe4DaZT"
      },
      "execution_count": null,
      "outputs": []
    },
    {
      "cell_type": "code",
      "source": [
        "#Проведем анализ налогов в зависимости от района города."
      ],
      "metadata": {
        "id": "nKau3Se_EmMT"
      },
      "execution_count": null,
      "outputs": []
    },
    {
      "cell_type": "code",
      "source": [
        "sns.boxplot(\n",
        "    x='NE',\n",
        "    y='TAX',\n",
        "    data=df\n",
        ");"
      ],
      "metadata": {
        "colab": {
          "base_uri": "https://localhost:8080/",
          "height": 282
        },
        "id": "AMVtHF4lEQrL",
        "outputId": "bb9df384-90fd-4f60-c590-d99f74ef4833"
      },
      "execution_count": null,
      "outputs": [
        {
          "output_type": "display_data",
          "data": {
            "text/plain": [
              "<Figure size 432x288 with 1 Axes>"
            ],
            "image/png": "[encoded data removed]"
          },
          "metadata": {
            "needs_background": "light"
          }
        }
      ]
    },
    {
      "cell_type": "code",
      "source": [
        "# Исходя из графика мы видим, что медианы расположены близко друг и другу.\n",
        "# Посмотрим точные числовые значения медиан.\n",
        "# Проведем стат. тест о равенстве медиан (критерий Муда)\n",
        "# Гипотеза Н0 медианная налоговая нагрузка на жилье в зависимости от района статистически значимо не отличается.\n",
        "# Гипотеза Н1 медианная налоговая нагрузка на жилье в зависимости от района разная.\n",
        "# Уровень доверия 95% (p-value = 0.05)\n",
        "print (x.median(), y.median())\n",
        "res = stats.median_test(x, y)\n",
        "print(f'p-value = {res[1]}')"
      ],
      "metadata": {
        "colab": {
          "base_uri": "https://localhost:8080/"
        },
        "id": "aftBApHUEx0p",
        "outputId": "87f319e4-3217-46ce-fee6-91ee3fe15ad0"
      },
      "execution_count": null,
      "outputs": [
        {
          "output_type": "stream",
          "name": "stdout",
          "text": [
            "750.0 704.0\n",
            "p-value = 0.3399737558061884\n"
          ]
        }
      ]
    },
    {
      "cell_type": "code",
      "source": [
        "# Вывод нет оснований отвергнуть гипотезу H0 (медианная налоговая нагрузка на жилье в зависимости от района статистически значимо не отличается)"
      ],
      "metadata": {
        "id": "ELbE3xjDLPH3"
      },
      "execution_count": null,
      "outputs": []
    },
    {
      "cell_type": "code",
      "source": [
        "# Исходя из анализа можно порекомендовать дом в престижной районе, с 6 удобствами (хотя предложений мало), не угловой т.к. судя по исследованиям на цену это не влияет.\n",
        "# Что касаемо площади она прямо коррелирует с ценой, поэтому тут все зависит от финансовых возможностей заказчика."
      ],
      "metadata": {
        "id": "m8yVrg3JNW_9"
      },
      "execution_count": null,
      "outputs": []
    },
    {
      "cell_type": "markdown",
      "metadata": {
        "id": "weEPZG9YXDAg"
      },
      "source": [
        "Пример 2.\n",
        "\n",
        "Возраст, в котором умирают европейские аристократы.\n",
        "\n",
        "Интересный датасет середины 19 века. Данные о возрасте, в котором умирали европейцы, в зависимости от их класса (sovereignty, aristocracy, and gentry)."
      ]
    },
    {
      "cell_type": "code",
      "execution_count": null,
      "metadata": {
        "ExecuteTime": {
          "end_time": "2022-02-26T19:56:26.702996Z",
          "start_time": "2022-02-26T19:56:26.677994Z"
        },
        "id": "6nTtffuyXDAh"
      },
      "outputs": [],
      "source": [
        "df = pd.read_csv('https://raw.githubusercontent.com/IlyaShirmanov/Portfolio_Data_Science_Files/main/agedeath.dat.txt', sep='\\s+', header=None,\n",
        "                 names=['group', 'age', 'index'])  # сословие, возраст, номер\n",
        "# sep='\\s+' - в качестве разделителя мы выбираем любое число пробелов"
      ]
    },
    {
      "cell_type": "code",
      "execution_count": null,
      "metadata": {
        "ExecuteTime": {
          "end_time": "2022-02-26T19:56:26.733017Z",
          "start_time": "2022-02-26T19:56:26.707005Z"
        },
        "id": "HVB5lK-GXDAi",
        "outputId": "893f93f8-1154-4e1f-9892-b1afbf44a373",
        "colab": {
          "base_uri": "https://localhost:8080/",
          "height": 206
        }
      },
      "outputs": [
        {
          "output_type": "execute_result",
          "data": {
            "text/plain": [
              "  group  age  index\n",
              "0  aris   21      1\n",
              "1  aris   21      2\n",
              "2  aris   21      3\n",
              "3  aris   21      4\n",
              "4  aris   21      5"
            ],
            "text/html": [
              "\n",
              "  <div id=\"df-fdad2662-c0f8-47e0-a951-e83c4a041602\">\n",
              "    <div class=\"colab-df-container\">\n",
              "      <div>\n",
              "<style scoped>\n",
              "    .dataframe tbody tr th:only-of-type {\n",
              "        vertical-align: middle;\n",
              "    }\n",
              "\n",
              "    .dataframe tbody tr th {\n",
              "        vertical-align: top;\n",
              "    }\n",
              "\n",
              "    .dataframe thead th {\n",
              "        text-align: right;\n",
              "    }\n",
              "</style>\n",
              "<table border=\"1\" class=\"dataframe\">\n",
              "  <thead>\n",
              "    <tr style=\"text-align: right;\">\n",
              "      <th></th>\n",
              "      <th>group</th>\n",
              "      <th>age</th>\n",
              "      <th>index</th>\n",
              "    </tr>\n",
              "  </thead>\n",
              "  <tbody>\n",
              "    <tr>\n",
              "      <th>0</th>\n",
              "      <td>aris</td>\n",
              "      <td>21</td>\n",
              "      <td>1</td>\n",
              "    </tr>\n",
              "    <tr>\n",
              "      <th>1</th>\n",
              "      <td>aris</td>\n",
              "      <td>21</td>\n",
              "      <td>2</td>\n",
              "    </tr>\n",
              "    <tr>\n",
              "      <th>2</th>\n",
              "      <td>aris</td>\n",
              "      <td>21</td>\n",
              "      <td>3</td>\n",
              "    </tr>\n",
              "    <tr>\n",
              "      <th>3</th>\n",
              "      <td>aris</td>\n",
              "      <td>21</td>\n",
              "      <td>4</td>\n",
              "    </tr>\n",
              "    <tr>\n",
              "      <th>4</th>\n",
              "      <td>aris</td>\n",
              "      <td>21</td>\n",
              "      <td>5</td>\n",
              "    </tr>\n",
              "  </tbody>\n",
              "</table>\n",
              "</div>\n",
              "      <button class=\"colab-df-convert\" onclick=\"convertToInteractive('df-fdad2662-c0f8-47e0-a951-e83c4a041602')\"\n",
              "              title=\"Convert this dataframe to an interactive table.\"\n",
              "              style=\"display:none;\">\n",
              "        \n",
              "  <svg xmlns=\"http://www.w3.org/2000/svg\" height=\"24px\"viewBox=\"0 0 24 24\"\n",
              "       width=\"24px\">\n",
              "    <path d=\"M0 0h24v24H0V0z\" fill=\"none\"/>\n",
              "    <path d=\"M18.56 5.44l.94 2.06.94-2.06 2.06-.94-2.06-.94-.94-2.06-.94 2.06-2.06.94zm-11 1L8.5 8.5l.94-2.06 2.06-.94-2.06-.94L8.5 2.5l-.94 2.06-2.06.94zm10 10l.94 2.06.94-2.06 2.06-.94-2.06-.94-.94-2.06-.94 2.06-2.06.94z\"/><path d=\"M17.41 7.96l-1.37-1.37c-.4-.4-.92-.59-1.43-.59-.52 0-1.04.2-1.43.59L10.3 9.45l-7.72 7.72c-.78.78-.78 2.05 0 2.83L4 21.41c.39.39.9.59 1.41.59.51 0 1.02-.2 1.41-.59l7.78-7.78 2.81-2.81c.8-.78.8-2.07 0-2.86zM5.41 20L4 18.59l7.72-7.72 1.47 1.35L5.41 20z\"/>\n",
              "  </svg>\n",
              "      </button>\n",
              "      \n",
              "  <style>\n",
              "    .colab-df-container {\n",
              "      display:flex;\n",
              "      flex-wrap:wrap;\n",
              "      gap: 12px;\n",
              "    }\n",
              "\n",
              "    .colab-df-convert {\n",
              "      background-color: #E8F0FE;\n",
              "      border: none;\n",
              "      border-radius: 50%;\n",
              "      cursor: pointer;\n",
              "      display: none;\n",
              "      fill: #1967D2;\n",
              "      height: 32px;\n",
              "      padding: 0 0 0 0;\n",
              "      width: 32px;\n",
              "    }\n",
              "\n",
              "    .colab-df-convert:hover {\n",
              "      background-color: #E2EBFA;\n",
              "      box-shadow: 0px 1px 2px rgba(60, 64, 67, 0.3), 0px 1px 3px 1px rgba(60, 64, 67, 0.15);\n",
              "      fill: #174EA6;\n",
              "    }\n",
              "\n",
              "    [theme=dark] .colab-df-convert {\n",
              "      background-color: #3B4455;\n",
              "      fill: #D2E3FC;\n",
              "    }\n",
              "\n",
              "    [theme=dark] .colab-df-convert:hover {\n",
              "      background-color: #434B5C;\n",
              "      box-shadow: 0px 1px 3px 1px rgba(0, 0, 0, 0.15);\n",
              "      filter: drop-shadow(0px 1px 2px rgba(0, 0, 0, 0.3));\n",
              "      fill: #FFFFFF;\n",
              "    }\n",
              "  </style>\n",
              "\n",
              "      <script>\n",
              "        const buttonEl =\n",
              "          document.querySelector('#df-fdad2662-c0f8-47e0-a951-e83c4a041602 button.colab-df-convert');\n",
              "        buttonEl.style.display =\n",
              "          google.colab.kernel.accessAllowed ? 'block' : 'none';\n",
              "\n",
              "        async function convertToInteractive(key) {\n",
              "          const element = document.querySelector('#df-fdad2662-c0f8-47e0-a951-e83c4a041602');\n",
              "          const dataTable =\n",
              "            await google.colab.kernel.invokeFunction('convertToInteractive',\n",
              "                                                     [key], {});\n",
              "          if (!dataTable) return;\n",
              "\n",
              "          const docLinkHtml = 'Like what you see? Visit the ' +\n",
              "            '<a target=\"_blank\" href=https://colab.research.google.com/notebooks/data_table.ipynb>data table notebook</a>'\n",
              "            + ' to learn more about interactive tables.';\n",
              "          element.innerHTML = '';\n",
              "          dataTable['output_type'] = 'display_data';\n",
              "          await google.colab.output.renderOutput(dataTable, element);\n",
              "          const docLink = document.createElement('div');\n",
              "          docLink.innerHTML = docLinkHtml;\n",
              "          element.appendChild(docLink);\n",
              "        }\n",
              "      </script>\n",
              "    </div>\n",
              "  </div>\n",
              "  "
            ]
          },
          "metadata": {},
          "execution_count": 28
        }
      ],
      "source": [
        "df.head()"
      ]
    },
    {
      "cell_type": "code",
      "execution_count": null,
      "metadata": {
        "ExecuteTime": {
          "end_time": "2022-02-26T19:56:26.764001Z",
          "start_time": "2022-02-26T19:56:26.743000Z"
        },
        "id": "cPH8m2xrXDAi"
      },
      "outputs": [],
      "source": [
        "x = df[df['group'] == 'sovr']['age']\n",
        "y = df[df['group'] == 'aris']['age']\n",
        "x.name, y.name = 'sovr', 'aris'"
      ]
    },
    {
      "cell_type": "code",
      "execution_count": null,
      "metadata": {
        "ExecuteTime": {
          "end_time": "2022-02-26T19:56:27.093023Z",
          "start_time": "2022-02-26T19:56:26.768997Z"
        },
        "id": "UfZbWTt4XDAj",
        "outputId": "f7fa04f0-dd03-4f70-e1d0-2520b36e3e23",
        "colab": {
          "base_uri": "https://localhost:8080/",
          "height": 266
        }
      },
      "outputs": [
        {
          "output_type": "display_data",
          "data": {
            "text/plain": [
              "<Figure size 432x288 with 1 Axes>"
            ],
            "image/png": "[encoded data removed]"
          },
          "metadata": {
            "needs_background": "light"
          }
        }
      ],
      "source": [
        "two_histograms(x, y)"
      ]
    },
    {
      "cell_type": "markdown",
      "metadata": {
        "id": "1OR3xrn2XDAj"
      },
      "source": [
        "Данные условно нормальны. Проверим c помощью критерия Флигнера-Килина, равны ли дисперсии, поскольку t-test хочет еще и с равными дисперсиями данные. "
      ]
    },
    {
      "cell_type": "code",
      "execution_count": null,
      "metadata": {
        "ExecuteTime": {
          "end_time": "2022-02-26T19:56:27.108023Z",
          "start_time": "2022-02-26T19:56:27.096025Z"
        },
        "id": "f0swvWhhXDAk",
        "outputId": "65df177c-cad6-4e38-ae7b-552dbe4a5a73",
        "colab": {
          "base_uri": "https://localhost:8080/"
        }
      },
      "outputs": [
        {
          "output_type": "stream",
          "name": "stdout",
          "text": [
            "p-value: 0.00010116077103844913\n"
          ]
        }
      ],
      "source": [
        "res = stats.fligner(x, y)\n",
        "print('p-value: {0}'.format(res[1]))"
      ]
    },
    {
      "cell_type": "markdown",
      "metadata": {
        "id": "rOLO4wxHXDAl"
      },
      "source": [
        "Значение p-value низкое, поэтому гипотезу о равенстве дисперсий отвергаем. В двух выборках находятся разные наблюдаемые объекты, то есть выборки ```несвязные```. \n",
        "\n",
        "Итого, гипотезу о равенстве средних значений будем проверять с помощью ```ttest_ind``` с опцией ```equal_var=False```."
      ]
    },
    {
      "cell_type": "code",
      "execution_count": null,
      "metadata": {
        "ExecuteTime": {
          "end_time": "2022-02-26T19:56:27.124015Z",
          "start_time": "2022-02-26T19:56:27.111011Z"
        },
        "scrolled": false,
        "id": "gorBQ4OVXDAl",
        "outputId": "dee43c97-bd9d-4264-e57c-4d9c4bebb8b2",
        "colab": {
          "base_uri": "https://localhost:8080/"
        }
      },
      "outputs": [
        {
          "output_type": "stream",
          "name": "stdout",
          "text": [
            "p-value: 1.5181184197728794e-26\n"
          ]
        }
      ],
      "source": [
        "res = stats.ttest_ind(x, y, equal_var=False)\n",
        "print('p-value: {0}'.format(res[1]))"
      ]
    },
    {
      "cell_type": "markdown",
      "metadata": {
        "id": "rvxmahKyXDAm"
      },
      "source": [
        "<div class=\"alert alert-info\">\n",
        "<b>Задача 1: </b>\n",
        "    \n",
        "Интерпретация результатов\n",
        "</div>"
      ]
    },
    {
      "cell_type": "markdown",
      "metadata": {
        "id": "bIDgGV1xXDAm"
      },
      "source": [
        "После проверки гипотезы необходимо произвести интерпритацию результатов, поскольку задача предполагает решение некой проблемы или ответ на определённый вопрос.  \n",
        "Какой же вывод мы можем сделать, основываясь на полученных результатах? "
      ]
    },
    {
      "cell_type": "code",
      "execution_count": null,
      "metadata": {
        "ExecuteTime": {
          "end_time": "2022-02-26T19:56:27.140047Z",
          "start_time": "2022-02-26T19:56:27.127023Z"
        },
        "id": "CRx9uHGGXDAn"
      },
      "outputs": [],
      "source": [
        "# Данный тест проверкяет нулевую гипотезы о том, что 2 независимые выборки имеют одинаковые средние значения.\n",
        "# => Н0 - средняя продолжительность жизни sovereignty, aristocracy одинаковая\n",
        "# Н1 - средняя продолжительность жизни sovereignty, aristocracy разная\n",
        "# p-value очень низкое НО отвергаем\n",
        "# => Средняя продолжительность жизни sovereignty, aristocracy разная\n"
      ]
    },
    {
      "cell_type": "markdown",
      "metadata": {
        "id": "5Pme8wYIXDAn"
      },
      "source": [
        "\n",
        "Задача 2:\n",
        "    \n",
        "Сделать выводы о всех трёх группах."
      ]
    },
    {
      "cell_type": "code",
      "source": [
        "#Построим визуализации для предварительного анализа"
      ],
      "metadata": {
        "id": "oUilHafSk0qp"
      },
      "execution_count": null,
      "outputs": []
    },
    {
      "cell_type": "code",
      "source": [
        "sns.boxplot(\n",
        "    x='group',\n",
        "    y='age',\n",
        "    data=df\n",
        ");"
      ],
      "metadata": {
        "colab": {
          "base_uri": "https://localhost:8080/",
          "height": 282
        },
        "id": "uLSAoaLafWmB",
        "outputId": "2b87a220-9a88-43d4-e14a-dafa1b76d4b3"
      },
      "execution_count": null,
      "outputs": [
        {
          "output_type": "display_data",
          "data": {
            "text/plain": [
              "<Figure size 432x288 with 1 Axes>"
            ],
            "image/png": "[encoded data removed]"
          },
          "metadata": {
            "needs_background": "light"
          }
        }
      ]
    },
    {
      "cell_type": "code",
      "source": [
        "plt.hist((df[u'age']), bins=40);"
      ],
      "metadata": {
        "colab": {
          "base_uri": "https://localhost:8080/",
          "height": 265
        },
        "id": "M2SDeNf3hOIR",
        "outputId": "c0f7a8cb-3299-4e4c-97a9-98f0905d82fd"
      },
      "execution_count": null,
      "outputs": [
        {
          "output_type": "display_data",
          "data": {
            "text/plain": [
              "<Figure size 432x288 with 1 Axes>"
            ],
            "image/png": "[encoded data removed]"
          },
          "metadata": {
            "needs_background": "light"
          }
        }
      ]
    },
    {
      "cell_type": "code",
      "source": [
        "groups = df.groupby('group')\n",
        "plt.hist((groups.get_group('aris')['age']), bins=40, color = 'r', alpha = 0.3);\n",
        "plt.hist((groups.get_group('gent')['age']), bins=40, color = 'g', alpha = 0.3);\n",
        "plt.hist((groups.get_group('sovr')['age']), bins=40, color = 'b', alpha = 0.3);"
      ],
      "metadata": {
        "colab": {
          "base_uri": "https://localhost:8080/",
          "height": 265
        },
        "id": "Nj3tMTSyhi5t",
        "outputId": "2d8376bd-eea4-4904-97f0-0d61ecb9fd07"
      },
      "execution_count": null,
      "outputs": [
        {
          "output_type": "display_data",
          "data": {
            "text/plain": [
              "<Figure size 432x288 with 1 Axes>"
            ],
            "image/png": "[encoded data removed]"
          },
          "metadata": {
            "needs_background": "light"
          }
        }
      ]
    },
    {
      "cell_type": "code",
      "source": [
        "#Посмотрим численные значения средней жизни\n",
        "print(f\"Среднее значение жизни aristocracy {np.average(groups.get_group('aris')['age'])}\")\n",
        "print(f\"Среднее значение жизни gentry {np.average(groups.get_group('gent')['age'])}\")\n",
        "print(f\"Среднее значение жизни sovereignty {np.average(groups.get_group('sovr')['age'])}\")"
      ],
      "metadata": {
        "colab": {
          "base_uri": "https://localhost:8080/"
        },
        "id": "xYiJPWlNj971",
        "outputId": "2a4b2d2b-7d4b-4bcd-aa7e-2214c1f97471"
      },
      "execution_count": null,
      "outputs": [
        {
          "output_type": "stream",
          "name": "stdout",
          "text": [
            "Среднее значение жизни aristocracy 60.233522479266696\n",
            "Среднее значение жизни gentry 57.307942973523424\n",
            "Среднее значение жизни sovereignty 54.232638888888886\n"
          ]
        }
      ]
    },
    {
      "cell_type": "code",
      "source": [
        "# Проведем исследование равенства средней жизни аристократов\n",
        "# Выдвенем гипотезы\n",
        "# Н0 - средняя продолжительность жизни sovereignty, aristocracy, and gentry одинаковая\n",
        "# Н1 - средняя продолжительность жизни sovereignty, aristocracy, and gentry разная\n",
        "\n"
      ],
      "metadata": {
        "id": "o77kMgNQdt6J"
      },
      "execution_count": null,
      "outputs": []
    },
    {
      "cell_type": "code",
      "execution_count": null,
      "metadata": {
        "id": "KtELeuA1XDAn",
        "colab": {
          "base_uri": "https://localhost:8080/"
        },
        "outputId": "0c05b3d3-d32e-4cc8-dc49-8a5925e90e1f"
      },
      "outputs": [
        {
          "output_type": "stream",
          "name": "stdout",
          "text": [
            " Сословие aris P-value = 1.0.\n",
            " Сословие gent P-value = 1.3630223411037013e-08.\n",
            " Сословие sovr P-value = 1.5181184197728794e-26.\n"
          ]
        }
      ],
      "source": [
        "groups = df.groupby('group')\n",
        "alpha = 0.05/(len(groups))\n",
        "baseline = groups.get_group('aris')['age']\n",
        "for Feat in groups:\n",
        "    a = Feat[1]['age']\n",
        "    p_val = stats.ttest_ind(a, baseline, equal_var = False).pvalue \n",
        "    if p_val != p_val:\n",
        "      print(f' Сословие {Feat[0]} P-value = {p_val}.')\n",
        "    elif p_val < alpha: \n",
        "      print(f' Сословие {Feat[0]} P-value = {p_val}.')\n",
        "    else:\n",
        "      print(f' Сословие {Feat[0]} P-value = {p_val}.')"
      ]
    },
    {
      "cell_type": "code",
      "source": [
        "# Сравниваем 3 сословия aris = 1 сравнивается сам с собой\n",
        "# Остальные сословия p-value очень низкое НО отвергаем\n",
        "# Средняя продолжительность жизни sovereignty, aristocracy, and gentry разная"
      ],
      "metadata": {
        "id": "9Z4tOzr-dVkc"
      },
      "execution_count": null,
      "outputs": []
    },
    {
      "cell_type": "markdown",
      "metadata": {
        "id": "FvfTi0g-XDAs"
      },
      "source": [
        "Пример 3. \n",
        "\n",
        "Правда ли эксперт по Data Science таковым является"
      ]
    },
    {
      "cell_type": "markdown",
      "metadata": {
        "id": "BtTfNH06XDAu"
      },
      "source": [
        "<div class=\"alert alert-info\">\n",
        "<b>Задание 1: </b>\n",
        "    \n",
        "Пусть, вы хотите проверить правда ли эксперт по Data Science таковым является. Вы составили список вопросов, спросили эксперта и случайных прохожих. Количество правильный вопросов по каждому разделу вы записали в таблицу (таблица смежности)\n",
        "\n",
        "Выясните, исходя из полученных данных, действительно ли перед вами эксперт или он знает не больше, чем случайный прохожий? Сделайте вывод на основании результата. \n",
        "    \n",
        "</div>"
      ]
    },
    {
      "cell_type": "code",
      "execution_count": null,
      "metadata": {
        "ExecuteTime": {
          "end_time": "2022-02-26T19:56:27.634996Z",
          "start_time": "2022-02-26T19:56:27.606005Z"
        },
        "id": "X26PpJ4qXDAv",
        "outputId": "d02ff24e-f5b7-4c87-9b7d-ccd896c6a6f1",
        "colab": {
          "base_uri": "https://localhost:8080/",
          "height": 129
        }
      },
      "outputs": [
        {
          "output_type": "stream",
          "name": "stdout",
          "text": [
            "Таблица сопряжённости\n"
          ]
        },
        {
          "output_type": "execute_result",
          "data": {
            "text/plain": [
              "                    SQL  Machine Learning  Analytics\n",
              "Эксперт              22                99         59\n",
              "Случайный прохожий   10                12         31"
            ],
            "text/html": [
              "\n",
              "  <div id=\"df-1b444eb9-f68c-429f-941d-d928f44058e7\">\n",
              "    <div class=\"colab-df-container\">\n",
              "      <div>\n",
              "<style scoped>\n",
              "    .dataframe tbody tr th:only-of-type {\n",
              "        vertical-align: middle;\n",
              "    }\n",
              "\n",
              "    .dataframe tbody tr th {\n",
              "        vertical-align: top;\n",
              "    }\n",
              "\n",
              "    .dataframe thead th {\n",
              "        text-align: right;\n",
              "    }\n",
              "</style>\n",
              "<table border=\"1\" class=\"dataframe\">\n",
              "  <thead>\n",
              "    <tr style=\"text-align: right;\">\n",
              "      <th></th>\n",
              "      <th>SQL</th>\n",
              "      <th>Machine Learning</th>\n",
              "      <th>Analytics</th>\n",
              "    </tr>\n",
              "  </thead>\n",
              "  <tbody>\n",
              "    <tr>\n",
              "      <th>Эксперт</th>\n",
              "      <td>22</td>\n",
              "      <td>99</td>\n",
              "      <td>59</td>\n",
              "    </tr>\n",
              "    <tr>\n",
              "      <th>Случайный прохожий</th>\n",
              "      <td>10</td>\n",
              "      <td>12</td>\n",
              "      <td>31</td>\n",
              "    </tr>\n",
              "  </tbody>\n",
              "</table>\n",
              "</div>\n",
              "      <button class=\"colab-df-convert\" onclick=\"convertToInteractive('df-1b444eb9-f68c-429f-941d-d928f44058e7')\"\n",
              "              title=\"Convert this dataframe to an interactive table.\"\n",
              "              style=\"display:none;\">\n",
              "        \n",
              "  <svg xmlns=\"http://www.w3.org/2000/svg\" height=\"24px\"viewBox=\"0 0 24 24\"\n",
              "       width=\"24px\">\n",
              "    <path d=\"M0 0h24v24H0V0z\" fill=\"none\"/>\n",
              "    <path d=\"M18.56 5.44l.94 2.06.94-2.06 2.06-.94-2.06-.94-.94-2.06-.94 2.06-2.06.94zm-11 1L8.5 8.5l.94-2.06 2.06-.94-2.06-.94L8.5 2.5l-.94 2.06-2.06.94zm10 10l.94 2.06.94-2.06 2.06-.94-2.06-.94-.94-2.06-.94 2.06-2.06.94z\"/><path d=\"M17.41 7.96l-1.37-1.37c-.4-.4-.92-.59-1.43-.59-.52 0-1.04.2-1.43.59L10.3 9.45l-7.72 7.72c-.78.78-.78 2.05 0 2.83L4 21.41c.39.39.9.59 1.41.59.51 0 1.02-.2 1.41-.59l7.78-7.78 2.81-2.81c.8-.78.8-2.07 0-2.86zM5.41 20L4 18.59l7.72-7.72 1.47 1.35L5.41 20z\"/>\n",
              "  </svg>\n",
              "      </button>\n",
              "      \n",
              "  <style>\n",
              "    .colab-df-container {\n",
              "      display:flex;\n",
              "      flex-wrap:wrap;\n",
              "      gap: 12px;\n",
              "    }\n",
              "\n",
              "    .colab-df-convert {\n",
              "      background-color: #E8F0FE;\n",
              "      border: none;\n",
              "      border-radius: 50%;\n",
              "      cursor: pointer;\n",
              "      display: none;\n",
              "      fill: #1967D2;\n",
              "      height: 32px;\n",
              "      padding: 0 0 0 0;\n",
              "      width: 32px;\n",
              "    }\n",
              "\n",
              "    .colab-df-convert:hover {\n",
              "      background-color: #E2EBFA;\n",
              "      box-shadow: 0px 1px 2px rgba(60, 64, 67, 0.3), 0px 1px 3px 1px rgba(60, 64, 67, 0.15);\n",
              "      fill: #174EA6;\n",
              "    }\n",
              "\n",
              "    [theme=dark] .colab-df-convert {\n",
              "      background-color: #3B4455;\n",
              "      fill: #D2E3FC;\n",
              "    }\n",
              "\n",
              "    [theme=dark] .colab-df-convert:hover {\n",
              "      background-color: #434B5C;\n",
              "      box-shadow: 0px 1px 3px 1px rgba(0, 0, 0, 0.15);\n",
              "      filter: drop-shadow(0px 1px 2px rgba(0, 0, 0, 0.3));\n",
              "      fill: #FFFFFF;\n",
              "    }\n",
              "  </style>\n",
              "\n",
              "      <script>\n",
              "        const buttonEl =\n",
              "          document.querySelector('#df-1b444eb9-f68c-429f-941d-d928f44058e7 button.colab-df-convert');\n",
              "        buttonEl.style.display =\n",
              "          google.colab.kernel.accessAllowed ? 'block' : 'none';\n",
              "\n",
              "        async function convertToInteractive(key) {\n",
              "          const element = document.querySelector('#df-1b444eb9-f68c-429f-941d-d928f44058e7');\n",
              "          const dataTable =\n",
              "            await google.colab.kernel.invokeFunction('convertToInteractive',\n",
              "                                                     [key], {});\n",
              "          if (!dataTable) return;\n",
              "\n",
              "          const docLinkHtml = 'Like what you see? Visit the ' +\n",
              "            '<a target=\"_blank\" href=https://colab.research.google.com/notebooks/data_table.ipynb>data table notebook</a>'\n",
              "            + ' to learn more about interactive tables.';\n",
              "          element.innerHTML = '';\n",
              "          dataTable['output_type'] = 'display_data';\n",
              "          await google.colab.output.renderOutput(dataTable, element);\n",
              "          const docLink = document.createElement('div');\n",
              "          docLink.innerHTML = docLinkHtml;\n",
              "          element.appendChild(docLink);\n",
              "        }\n",
              "      </script>\n",
              "    </div>\n",
              "  </div>\n",
              "  "
            ]
          },
          "metadata": {},
          "execution_count": 42
        }
      ],
      "source": [
        "contingency_table =\\\n",
        "    pd.DataFrame([[22, 99, 59], [10, 12, 31]],\n",
        "                 columns=['SQL', 'Machine Learning', 'Analytics'],\n",
        "                 index=['Эксперт', 'Случайный прохожий'])\n",
        "\n",
        "print('Таблица сопряжённости')\n",
        "contingency_table"
      ]
    },
    {
      "cell_type": "code",
      "execution_count": null,
      "metadata": {
        "id": "KirtVg8HXDAv",
        "colab": {
          "base_uri": "https://localhost:8080/"
        },
        "outputId": "60b22bde-0ac4-42b8-97af-f0b95c24dd16"
      },
      "outputs": [
        {
          "output_type": "stream",
          "name": "stdout",
          "text": [
            "p-value: 0.00017303774198262266\n"
          ]
        }
      ],
      "source": [
        "# Проверяем гипотезу о равенстве доли признака (Знает ли эксперт больше чем прохожий)\n",
        "#Гипотеза Н0 - эксперт по Data Science знает столько же чем случайный прохожий.\n",
        "#Гипотеза Н1 - эксперт по Data Science знает больше чем случайный прохожий.\n",
        "#\n",
        "res = stats.chi2_contingency(contingency_table)\n",
        "print('p-value: {0}'.format(res[1]))"
      ]
    },
    {
      "cell_type": "code",
      "source": [
        "# Вывод p-value низкий гипотезу Н0 отвергаем.\n",
        "# Эксперт по Data Science знает больше чем случайный прохожий."
      ],
      "metadata": {
        "id": "3e4lNiY5Abcp"
      },
      "execution_count": null,
      "outputs": []
    }
  ],
  "metadata": {
    "kernelspec": {
      "display_name": "Python 3",
      "language": "python",
      "name": "python3"
    },
    "language_info": {
      "codemirror_mode": {
        "name": "ipython",
        "version": 3
      },
      "file_extension": ".py",
      "mimetype": "text/x-python",
      "name": "python",
      "nbconvert_exporter": "python",
      "pygments_lexer": "ipython3",
      "version": "3.7.6"
    },
    "toc": {
      "base_numbering": 1,
      "nav_menu": {},
      "number_sections": true,
      "sideBar": true,
      "skip_h1_title": false,
      "title_cell": "Table of Contents",
      "title_sidebar": "Contents",
      "toc_cell": false,
      "toc_position": {
        "height": "calc(100% - 180px)",
        "left": "10px",
        "top": "150px",
        "width": "512px"
      },
      "toc_section_display": true,
      "toc_window_display": true
    },
    "colab": {
      "provenance": [],
      "collapsed_sections": []
    }
  },
  "nbformat": 4,
  "nbformat_minor": 0
}